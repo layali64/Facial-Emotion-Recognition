{
  "nbformat": 4,
  "nbformat_minor": 0,
  "metadata": {
    "colab": {
      "provenance": [],
      "machine_shape": "hm",
      "mount_file_id": "1SuiecdvxwGv1t1JOzwypo5ffXrpEhgMw",
      "authorship_tag": "ABX9TyNwC/jCBOuFrI+NiKOBZFEY"
    },
    "kernelspec": {
      "name": "python3",
      "display_name": "Python 3"
    },
    "language_info": {
      "name": "python"
    },
    "accelerator": "GPU",
    "gpuClass": "premium"
  },
  "cells": [
    {
      "cell_type": "markdown",
      "source": [
        "##**Hardware Setting**\n",
        "\n"
      ],
      "metadata": {
        "id": "43J7oSOlJ-vL"
      }
    },
    {
      "cell_type": "code",
      "source": [
        "!nvidia-smi"
      ],
      "metadata": {
        "colab": {
          "base_uri": "https://localhost:8080/"
        },
        "id": "Sb3Jw8LnqTac",
        "outputId": "cf527041-c319-416a-da14-ac734c9e0ed0"
      },
      "execution_count": null,
      "outputs": [
        {
          "output_type": "stream",
          "name": "stdout",
          "text": [
            "Wed Nov 30 09:06:23 2022       \n",
            "+-----------------------------------------------------------------------------+\n",
            "| NVIDIA-SMI 460.32.03    Driver Version: 460.32.03    CUDA Version: 11.2     |\n",
            "|-------------------------------+----------------------+----------------------+\n",
            "| GPU  Name        Persistence-M| Bus-Id        Disp.A | Volatile Uncorr. ECC |\n",
            "| Fan  Temp  Perf  Pwr:Usage/Cap|         Memory-Usage | GPU-Util  Compute M. |\n",
            "|                               |                      |               MIG M. |\n",
            "|===============================+======================+======================|\n",
            "|   0  Tesla T4            Off  | 00000000:00:04.0 Off |                    0 |\n",
            "| N/A   43C    P8     9W /  70W |      0MiB / 15109MiB |      0%      Default |\n",
            "|                               |                      |                  N/A |\n",
            "+-------------------------------+----------------------+----------------------+\n",
            "                                                                               \n",
            "+-----------------------------------------------------------------------------+\n",
            "| Processes:                                                                  |\n",
            "|  GPU   GI   CI        PID   Type   Process name                  GPU Memory |\n",
            "|        ID   ID                                                   Usage      |\n",
            "|=============================================================================|\n",
            "|  No running processes found                                                 |\n",
            "+-----------------------------------------------------------------------------+\n"
          ]
        }
      ]
    },
    {
      "cell_type": "markdown",
      "source": [
        "##**Import Libraries**"
      ],
      "metadata": {
        "id": "aPmJ7gfiLKi8"
      }
    },
    {
      "cell_type": "code",
      "source": [
        "import os\n",
        "import random\n",
        "import numpy as np\n",
        "import pandas as pd\n",
        "import seaborn as sns\n",
        "import PIL\n",
        "import itertools\n",
        "import cv2\n",
        "from tqdm import tqdm\n",
        "import random\n",
        "import matplotlib.pyplot as plt\n",
        "from IPython.display import Image\n",
        "import imutils   \n",
        "from sklearn.metrics import accuracy_score, confusion_matrix, plot_confusion_matrix, classification_report\n",
        "from keras.utils.vis_utils import plot_model\n",
        "import keras\n",
        "import tensorflow.keras as K\n",
        "import tensorflow as tf\n",
        "from tensorflow.keras.preprocessing.image import load_img, ImageDataGenerator, array_to_img, img_to_array\n",
        "from tensorflow.keras.applications import EfficientNetB1\n",
        "from tensorflow.keras.models import Model\n",
        "from tensorflow.keras.layers import Flatten, Dense, Conv2D, Dropout, GlobalAveragePooling2D\n",
        "from tensorflow.keras.optimizers import Adam\n",
        "from tensorflow.keras.callbacks import ModelCheckpoint, EarlyStopping, ReduceLROnPlateau\n",
        "import warnings\n",
        "warnings.filterwarnings(\"ignore\", category=np.VisibleDeprecationWarning) "
      ],
      "metadata": {
        "id": "npPrhZ7wJlGi"
      },
      "execution_count": null,
      "outputs": []
    },
    {
      "cell_type": "markdown",
      "source": [
        "##**Dataset**"
      ],
      "metadata": {
        "id": "btbusjRCFRsJ"
      }
    },
    {
      "cell_type": "code",
      "source": [
        "train_dir = '/content/drive/MyDrive/Facial Emotion Recognition/FER2013-4Class/train/'\n",
        "test_dir= '/content/drive/MyDrive/Facial Emotion Recognition/FER2013-4Class/test/'\n",
        "classes = os.listdir('/content/drive/MyDrive/Facial Emotion Recognition/FER2013-4Class/train/')\n",
        "path= {}\n",
        "for label in classes:\n",
        "  path[label] = list(map(lambda x: train_dir + label + '/' + x, os.listdir(train_dir + label)))\n",
        "\n",
        "classes"
      ],
      "metadata": {
        "id": "_AiqffFKJqep",
        "colab": {
          "base_uri": "https://localhost:8080/"
        },
        "outputId": "5f46fdff-8a4d-47f1-e79e-72a467c10caf"
      },
      "execution_count": null,
      "outputs": [
        {
          "output_type": "execute_result",
          "data": {
            "text/plain": [
              "['fear', 'happy', 'angry']"
            ]
          },
          "metadata": {},
          "execution_count": 3
        }
      ]
    },
    {
      "cell_type": "code",
      "source": [
        "plt.figure(figsize = (15,15))\n",
        "index = 0\n",
        "for label in classes:\n",
        "  random.shuffle(path[label])\n",
        "  directory_list = path[label][:5]\n",
        "\n",
        "  for i in range(2, 3):\n",
        "    index += 1\n",
        "    plt.subplot(4, 4, index)\n",
        "    plt.imshow(load_img(directory_list[i]))\n",
        "    plt.title(label)"
      ],
      "metadata": {
        "colab": {
          "base_uri": "https://localhost:8080/",
          "height": 241
        },
        "id": "4tAUuD4wJxya",
        "outputId": "fb7d6027-3a4a-4c83-83bf-f8879788a769"
      },
      "execution_count": null,
      "outputs": [
        {
          "output_type": "display_data",
          "data": {
            "text/plain": [
              "<Figure size 1080x1080 with 3 Axes>"
            ],
            "image/png": "[encoded data removed]"
          },
          "metadata": {
            "needs_background": "light"
          }
        }
      ]
    },
    {
      "cell_type": "markdown",
      "source": [
        "##**Interested labels for traning model with 3 classes**"
      ],
      "metadata": {
        "id": "zxjBWepYMAhO"
      }
    },
    {
      "cell_type": "code",
      "source": [
        "Interested_labels= [3, 4, 6]\n",
        "data = data[data.emotion.isin(Interested_labels)]\n",
        "data.shape"
      ],
      "metadata": {
        "id": "3KOZcmFzLT9y"
      },
      "execution_count": null,
      "outputs": []
    },
    {
      "cell_type": "markdown",
      "source": [
        "##**Dataset Distribution**"
      ],
      "metadata": {
        "id": "F2dVxAFdFXV2"
      }
    },
    {
      "cell_type": "code",
      "source": [
        "No_images = []\n",
        "image_label = []\n",
        "\n",
        "for i in os.listdir('/content/drive/MyDrive/Facial Emotion Recognition/FER2013-4Class/train/'):\n",
        "  class_train = os.listdir(os.path.join('/content/drive/MyDrive/Facial Emotion Recognition/FER2013-4Class/train/', i))\n",
        "  No_images.append(len(class_train))\n",
        "  image_label.append(i)\n",
        "\n",
        "plt.figure(figsize=(8, 8))\n",
        "colors = sns.color_palette('YlGnBu')\n",
        "plt.pie(No_images, \n",
        "        labels = image_label, \n",
        "        autopct = '%1.1f%%',\n",
        "        colors=colors)\n",
        "plt.show()"
      ],
      "metadata": {
        "colab": {
          "base_uri": "https://localhost:8080/",
          "height": 466
        },
        "id": "BYXZDbMYJynC",
        "outputId": "4d6a733c-cf38-441f-87b2-cc1caab1274a"
      },
      "execution_count": null,
      "outputs": [
        {
          "output_type": "display_data",
          "data": {
            "text/plain": [
              "<Figure size 576x576 with 1 Axes>"
            ],
            "image/png": "[encoded data removed]"
          },
          "metadata": {}
        }
      ]
    },
    {
      "cell_type": "markdown",
      "source": [
        "##**Image Preprocessing**"
      ],
      "metadata": {
        "id": "eZpctBBxFgXm"
      }
    },
    {
      "cell_type": "code",
      "source": [
        "img = cv2.imread('/content/drive/MyDrive/Facial Emotion Recognition/FER2013-4Class/train/happy/Training_7173508.jpg')\n",
        "img = cv2.resize(\n",
        "            img,\n",
        "            dsize=(48,48),\n",
        "            interpolation=cv2.INTER_CUBIC\n",
        "        )\n",
        "gray = cv2.cvtColor(img, cv2.COLOR_RGB2GRAY)\n",
        "gray1 = cv2.GaussianBlur(gray, (5, 5), 0)\n",
        "\n",
        "thresh = cv2.threshold(gray, 45, 255, cv2.THRESH_BINARY)[1]\n",
        "thresh = cv2.erode(thresh, None, iterations=2)\n",
        "thresh1 = cv2.dilate(thresh, None, iterations=2)\n",
        "\n",
        "cnts = cv2.findContours(thresh.copy(), cv2.RETR_EXTERNAL, cv2.CHAIN_APPROX_SIMPLE)\n",
        "cnts = imutils.grab_contours(cnts)\n",
        "c = max(cnts, key=cv2.contourArea)\n",
        "\n",
        "extLeft = tuple(c[c[:, :, 0].argmin()][0])\n",
        "extRight = tuple(c[c[:, :, 0].argmax()][0])\n",
        "extTop = tuple(c[c[:, :, 1].argmin()][0])\n",
        "extBot = tuple(c[c[:, :, 1].argmax()][0])\n",
        "\n",
        "img_cnt = cv2.drawContours(img.copy(), [c], -1, (0, 255, 255), 1)\n",
        "img_pnt = cv2.circle(img_cnt.copy(), extLeft, 3, (0, 0, 255), -1)\n",
        "img_pnt = cv2.circle(img_pnt, extRight, 3, (0, 255, 0), -1)\n",
        "img_pnt = cv2.circle(img_pnt, extTop, 3, (255, 0, 0), -1)\n",
        "img_pnt = cv2.circle(img_pnt, extBot, 3, (255, 255, 0), -1)\n",
        "\n",
        "ADD_PIXELS = 0\n",
        "new_img = img[extTop[1]-ADD_PIXELS:extBot[1]+ADD_PIXELS, extLeft[0]-ADD_PIXELS:extRight[0]+ADD_PIXELS].copy()"
      ],
      "metadata": {
        "id": "5NPZH1jxKy1g"
      },
      "execution_count": null,
      "outputs": []
    },
    {
      "cell_type": "code",
      "source": [
        "plt.figure(figsize=(15,6))\n",
        "plt.subplot(141)\n",
        "plt.imshow(gray1)\n",
        "plt.xticks([])\n",
        "plt.yticks([])\n",
        "plt.title('BGR To Greyscale & GaussianBlur')\n",
        "plt.subplot(142)\n",
        "plt.imshow(thresh1)\n",
        "plt.xticks([])\n",
        "plt.yticks([])\n",
        "plt.title('Threshold')\n",
        "plt.subplot(143)\n",
        "plt.imshow(img_cnt)\n",
        "plt.xticks([])\n",
        "plt.yticks([])\n",
        "plt.title('Biggest contour')\n",
        "plt.subplot(144)\n",
        "plt.imshow(img_pnt)\n",
        "plt.xticks([])\n",
        "plt.yticks([])\n",
        "plt.title('Extreme points')\n",
        "plt.show()"
      ],
      "metadata": {
        "colab": {
          "base_uri": "https://localhost:8080/",
          "height": 232
        },
        "id": "VN2-4oPqLR1z",
        "outputId": "307433dd-f986-417b-c650-dc3386d08eb7"
      },
      "execution_count": null,
      "outputs": [
        {
          "output_type": "display_data",
          "data": {
            "text/plain": [
              "<Figure size 1080x432 with 4 Axes>"
            ],
            "image/png": "[encoded data removed]"
          },
          "metadata": {}
        }
      ]
    },
    {
      "cell_type": "code",
      "source": [
        "def crop_image(image, plot=False):\n",
        "    \n",
        "    \n",
        "    img_gray = cv2.cvtColor(image, cv2.COLOR_BGR2GRAY)\n",
        "    img_gray = cv2.GaussianBlur(img_gray, (5, 5), 0)\n",
        "    img_thresh = cv2.threshold(img_gray, 45, 255, cv2.THRESH_BINARY)[1]\n",
        "    img_thresh = cv2.erode(img_thresh, None, iterations=2)\n",
        "    img_thresh = cv2.dilate(img_thresh, None, iterations=2)\n",
        "    contours = cv2.findContours(img_thresh.copy(), cv2.RETR_EXTERNAL, cv2.CHAIN_APPROX_SIMPLE)\n",
        "    contours = imutils.grab_contours(contours)\n",
        "    c = max(contours, key=cv2.contourArea)\n",
        "    extLeft = tuple(c[c[:, :, 0].argmin()][0])\n",
        "    extRight = tuple(c[c[:, :, 0].argmax()][0])\n",
        "    extTop = tuple(c[c[:, :, 1].argmin()][0])\n",
        "    extBot = tuple(c[c[:, :, 1].argmax()][0])\n",
        "    \n",
        "    new_image = image[extTop[1]:extBot[1], extLeft[0]:extRight[0]]            \n",
        "\n",
        "    #plot\n",
        "    if plot:\n",
        "        plt.figure(figsize=(15, 6))\n",
        "        plt.subplot(1, 2, 1)\n",
        "        plt.imshow(image)\n",
        "        plt.tick_params(axis='both', which='both', top=False, bottom=False, left=False, right=False,labelbottom=False, labeltop=False, labelleft=False, labelright=False)\n",
        "        plt.title('Original Image')\n",
        "        plt.subplot(1, 2, 2)\n",
        "        plt.imshow(new_image)\n",
        "        plt.tick_params(axis='both', which='both',top=False, bottom=False, left=False, right=False,labelbottom=False, labeltop=False, labelleft=False, labelright=False)\n",
        "        plt.title('Cropped Image')\n",
        "        plt.show()\n",
        "    \n",
        "    return new_image"
      ],
      "metadata": {
        "id": "ARbqIZ3ILh4i"
      },
      "execution_count": null,
      "outputs": []
    },
    {
      "cell_type": "code",
      "source": [
        "plt.figure(figsize=(15,6))\n",
        "plt.subplot(141)\n",
        "plt.imshow(img)\n",
        "plt.xticks([])\n",
        "plt.yticks([])\n",
        "plt.title('Original Image')\n",
        "plt.subplot(142)\n",
        "plt.imshow(new_img)\n",
        "plt.xticks([])\n",
        "plt.yticks([])\n",
        "plt.title('Cropped  Image')"
      ],
      "metadata": {
        "colab": {
          "base_uri": "https://localhost:8080/",
          "height": 249
        },
        "id": "Tto38kPYLkVi",
        "outputId": "0a6df23e-faa6-4714-ae76-f40baf492e10"
      },
      "execution_count": null,
      "outputs": [
        {
          "output_type": "execute_result",
          "data": {
            "text/plain": [
              "Text(0.5, 1.0, 'Cropped  Image')"
            ]
          },
          "metadata": {},
          "execution_count": 9
        },
        {
          "output_type": "display_data",
          "data": {
            "text/plain": [
              "<Figure size 1080x432 with 2 Axes>"
            ],
            "image/png": "[encoded data removed]"
          },
          "metadata": {}
        }
      ]
    },
    {
      "cell_type": "code",
      "source": [
        "# Saving Cropped Images \n",
        "fear = train_dir + 'fear'\n",
        "# happy = train_dir + 'happy'\n",
        "# angry = train_dir + 'angry'\n",
        "\n",
        "j = 0\n",
        "for i in tqdm(os.listdir(fear)):\n",
        "  path = os.path.join(fear, i)\n",
        "  img = cv2.imread(path)\n",
        "  img = crop_image(img, plot=False)\n",
        "\n",
        "  if img is not None:\n",
        "    img = cv2.resize(img, (48, 48))\n",
        "    save_path = '/content/drive/MyDrive/Facial Emotion Recognition/Test_Cropped/' + str(j) + '.jpg'\n",
        "    cv2.imwrite(save_path, img)\n",
        "    j = j + 1\n"
      ],
      "metadata": {
        "id": "iGPydHhsnmE0"
      },
      "execution_count": null,
      "outputs": []
    },
    {
      "cell_type": "markdown",
      "source": [
        "##**Data Augmentation**"
      ],
      "metadata": {
        "id": "nGx4Ti0GFqKa"
      }
    },
    {
      "cell_type": "code",
      "source": [
        "datagen = ImageDataGenerator(rescale = 1./255,\n",
        "                             rotation_range=10,\n",
        "                             height_shift_range=0.2,\n",
        "                             horizontal_flip=True,\n",
        "                             validation_split=0.2)\n",
        "\n",
        "train_data = datagen.flow_from_directory('/content/drive/MyDrive/Facial Emotion Recognition/Cropped',\n",
        "                                         target_size=(48, 48),\n",
        "                                         batch_size=32,\n",
        "                                         class_mode='categorical',\n",
        "                                         subset='training')\n",
        "\n",
        "valid_data = datagen.flow_from_directory('/content/drive/MyDrive/Facial Emotion Recognition/Cropped/',\n",
        "                                         target_size=(48, 48),\n",
        "                                         batch_size=32,\n",
        "                                         class_mode='categorical',\n",
        "                                         subset='validation')\n",
        "\n",
        "\n",
        "test_datagen = ImageDataGenerator(rescale = 1./255)\n",
        "\n",
        "test_data = datagen.flow_from_directory('/content/drive/MyDrive/Facial Emotion Recognition/test_cropped/',\n",
        "                                         target_size=(48, 48),\n",
        "                                        class_mode='categorical',\n",
        "                                        batch_size=64,\n",
        "                                        shuffle=False)"
      ],
      "metadata": {
        "id": "ubxwTgZmKIrK",
        "colab": {
          "base_uri": "https://localhost:8080/"
        },
        "outputId": "936a1627-5423-4bfa-da8b-2e0fb3006909"
      },
      "execution_count": null,
      "outputs": [
        {
          "output_type": "stream",
          "name": "stdout",
          "text": [
            "Found 3475 images belonging to 3 classes.\n",
            "Found 868 images belonging to 3 classes.\n",
            "Found 4740 images belonging to 3 classes.\n"
          ]
        }
      ]
    },
    {
      "cell_type": "code",
      "source": [
        "# Index of Each Class\n",
        "print(train_data.class_indices)\n",
        "print(test_data.class_indices)"
      ],
      "metadata": {
        "id": "Nx11VviaKKH6",
        "colab": {
          "base_uri": "https://localhost:8080/"
        },
        "outputId": "24e31b63-e48a-4f8f-fb5b-18d09844fe77"
      },
      "execution_count": null,
      "outputs": [
        {
          "output_type": "stream",
          "name": "stdout",
          "text": [
            "{'angry': 0, 'fear': 1, 'happy': 2}\n",
            "{'angry': 0, 'fear': 1, 'happy': 2}\n"
          ]
        }
      ]
    },
    {
      "cell_type": "code",
      "source": [
        "# Visualized Augmented Data\n",
        "aug_x, aug_y = next(train_data)\n",
        "plt.figure(figsize=(10, 8))\n",
        "for i in range(6):\n",
        "  plt.subplot(2,3, i+1)\n",
        "  Augmented = array_to_img(aug_x[i])\n",
        "  plt.axis('off')\n",
        "  plt.grid(False)\n",
        "  plt.imshow(Augmented)\n",
        "plt.show()"
      ],
      "metadata": {
        "id": "hGlDU1uUKNGa",
        "colab": {
          "base_uri": "https://localhost:8080/",
          "height": 432
        },
        "outputId": "0108b396-3808-4ad1-ee35-8d497f9775d2"
      },
      "execution_count": null,
      "outputs": [
        {
          "output_type": "display_data",
          "data": {
            "text/plain": [
              "<Figure size 720x576 with 6 Axes>"
            ],
            "image/png": "[encoded data removed]"
          },
          "metadata": {
            "needs_background": "light"
          }
        }
      ]
    },
    {
      "cell_type": "markdown",
      "source": [
        "##**Checkpoint and EarlyStopping**"
      ],
      "metadata": {
        "id": "SPWJRKQhGzrz"
      }
    },
    {
      "cell_type": "code",
      "source": [
        "checkpoint = ModelCheckpoint('/content/drive/MyDrive/Facial Emotion Recognition/Model_Ckeckpoint/EfficientNetB1.h5', \n",
        "                             monitor='val_accuracy',\n",
        "                             save_best_only=True,\n",
        "                             mode='auto',\n",
        "                             verbose=1)\n",
        "\n",
        "\n",
        "earlystop = EarlyStopping(monitor='val_accuracy',\n",
        "                          patience=5,\n",
        "                          mode='auto',\n",
        "                          verbose=1)\n",
        "\n",
        "\n",
        "reduce_lr = ReduceLROnPlateau(monitor = 'val_accuracy', \n",
        "                              factor = 0.3, \n",
        "                              patience = 2, \n",
        "                              min_delta = 0.001,\n",
        "                              mode='auto',\n",
        "                              verbose=1)"
      ],
      "metadata": {
        "id": "sNT2s980KZqq"
      },
      "execution_count": null,
      "outputs": []
    },
    {
      "cell_type": "markdown",
      "source": [
        "##**CNN Model with 3Classes**"
      ],
      "metadata": {
        "id": "s_ewaqmTKlXc"
      }
    },
    {
      "cell_type": "code",
      "source": [
        "input_shape = (48, 48, 1)\n",
        "output_class = 3\n",
        "\n",
        "model = Sequential()\n",
        "# convolutional layers\n",
        "model.add(Conv2D(128, kernel_size=(3,3), activation='relu', input_shape=input_shape))\n",
        "model.add(MaxPooling2D(pool_size=(2,2)))\n",
        "model.add(Dropout(0.4))\n",
        "\n",
        "model.add(Conv2D(256, kernel_size=(3,3), activation='relu'))\n",
        "model.add(MaxPooling2D(pool_size=(2,2)))\n",
        "model.add(Dropout(0.4))\n",
        "\n",
        "model.add(Conv2D(512, kernel_size=(3,3), activation='relu'))\n",
        "model.add(MaxPooling2D(pool_size=(2,2)))\n",
        "model.add(Dropout(0.4))\n",
        "\n",
        "model.add(Conv2D(512, kernel_size=(3,3), activation='relu'))\n",
        "model.add(MaxPooling2D(pool_size=(2,2)))\n",
        "model.add(Dropout(0.4))\n",
        "\n",
        "model.add(Flatten())\n",
        "# fully connected layers\n",
        "model.add(Dense(512, activation='relu'))\n",
        "model.add(Dropout(0.4))\n",
        "model.add(Dense(256, activation='relu'))\n",
        "model.add(Dropout(0.3))\n",
        "# output layer\n",
        "model.add(Dense(output_class, activation='softmax'))\n",
        "\n",
        "model.summary()"
      ],
      "metadata": {
        "id": "d9bSjqkcKni8"
      },
      "execution_count": null,
      "outputs": []
    },
    {
      "cell_type": "code",
      "source": [
        "model.compile(optimizer='adam', loss='categorical_crossentropy', metrics='accuracy')"
      ],
      "metadata": {
        "id": "HOPV8BOVKt2x"
      },
      "execution_count": null,
      "outputs": []
    },
    {
      "cell_type": "code",
      "source": [
        "%%time\n",
        "\n",
        "history = model.fit(x=x_train, y=y_train, batch_size=128, epochs=100, validation_data=(x_test, y_test))"
      ],
      "metadata": {
        "id": "5rAxR9jmKwnk"
      },
      "execution_count": null,
      "outputs": []
    },
    {
      "cell_type": "markdown",
      "source": [
        "##**EfficientNet B1 Model**"
      ],
      "metadata": {
        "id": "0oGgb9ySGFrR"
      }
    },
    {
      "cell_type": "code",
      "source": [
        "EfficientNetB1 = EfficientNetB1(weights='imagenet', \n",
        "                        include_top=False, \n",
        "                        input_shape=(48, 48,3))\n",
        "\n",
        "model = EfficientNetB1.output\n",
        "model = GlobalAveragePooling2D()(model)\n",
        "model = Dropout(0.5)(model)\n",
        "model = Dense(3, activation='softmax')(model)\n",
        "model = Model(inputs=EfficientNetB1.input, \n",
        "              outputs=model)\n",
        "\n",
        "\n",
        "model.summary()"
      ],
      "metadata": {
        "id": "zr5s8EA2KOzg"
      },
      "execution_count": null,
      "outputs": []
    },
    {
      "cell_type": "code",
      "source": [
        "from keras.utils.vis_utils import plot_model\n",
        "\n",
        "plot_model(model, to_file = 'EfficientNetB1_LayerB1.png', show_shapes = True, show_layer_names = True)"
      ],
      "metadata": {
        "id": "AX3WtdwLKPNB"
      },
      "execution_count": null,
      "outputs": []
    },
    {
      "cell_type": "code",
      "source": [
        "model.compile(optimizer=Adam(learning_rate=0.0001, beta_1=0.9, beta_2=0.999, \n",
        "epsilon=1e-08, decay=0.0001),\n",
        "              loss='categorical_crossentropy',\n",
        "              metrics=['accuracy'])"
      ],
      "metadata": {
        "id": "WBKdd5irGXZ4"
      },
      "execution_count": null,
      "outputs": []
    },
    {
      "cell_type": "code",
      "source": [
        "%%time\n",
        "\n",
        "history = model.fit(train_data, \n",
        "                    epochs = 30, \n",
        "                    validation_data=(valid_data),\n",
        "                    verbose=1,\n",
        "                    callbacks=[checkpoint, earlystop, reduce_lr])"
      ],
      "metadata": {
        "id": "xuES2oRzKcji",
        "colab": {
          "base_uri": "https://localhost:8080/"
        },
        "outputId": "adb01660-2194-485d-ead0-3a5c2dfc8092"
      },
      "execution_count": null,
      "outputs": [
        {
          "output_type": "stream",
          "name": "stdout",
          "text": [
            "Epoch 1/30\n",
            "109/109 [==============================] - ETA: 0s - loss: 0.9682 - accuracy: 0.5534\n",
            "Epoch 1: val_accuracy improved from -inf to 0.05645, saving model to /content/drive/MyDrive/Facial Emotion Recognition/Model_Ckeckpoint/EfficientNetB1.h5\n",
            "109/109 [==============================] - 866s 8s/step - loss: 0.9682 - accuracy: 0.5534 - val_loss: 1.2793 - val_accuracy: 0.0565 - lr: 1.0000e-04\n",
            "Epoch 2/30\n",
            "109/109 [==============================] - ETA: 0s - loss: 0.5034 - accuracy: 0.8317\n",
            "Epoch 2: val_accuracy improved from 0.05645 to 0.94355, saving model to /content/drive/MyDrive/Facial Emotion Recognition/Model_Ckeckpoint/EfficientNetB1.h5\n",
            "109/109 [==============================] - 12s 106ms/step - loss: 0.5034 - accuracy: 0.8317 - val_loss: 0.4615 - val_accuracy: 0.9435 - lr: 1.0000e-04\n",
            "Epoch 3/30\n",
            "109/109 [==============================] - ETA: 0s - loss: 0.3390 - accuracy: 0.9125\n",
            "Epoch 3: val_accuracy did not improve from 0.94355\n",
            "109/109 [==============================] - 11s 101ms/step - loss: 0.3390 - accuracy: 0.9125 - val_loss: 0.2618 - val_accuracy: 0.9435 - lr: 1.0000e-04\n",
            "Epoch 4/30\n",
            "109/109 [==============================] - ETA: 0s - loss: 0.2927 - accuracy: 0.9315\n",
            "Epoch 4: val_accuracy did not improve from 0.94355\n",
            "\n",
            "Epoch 4: ReduceLROnPlateau reducing learning rate to 2.9999999242136255e-05.\n",
            "109/109 [==============================] - 10s 91ms/step - loss: 0.2927 - accuracy: 0.9315 - val_loss: 0.2521 - val_accuracy: 0.9435 - lr: 1.0000e-04\n",
            "Epoch 5/30\n",
            "109/109 [==============================] - ETA: 0s - loss: 0.2664 - accuracy: 0.9355\n",
            "Epoch 5: val_accuracy did not improve from 0.94355\n",
            "109/109 [==============================] - 10s 91ms/step - loss: 0.2664 - accuracy: 0.9355 - val_loss: 0.2690 - val_accuracy: 0.9435 - lr: 3.0000e-05\n",
            "Epoch 6/30\n",
            "109/109 [==============================] - ETA: 0s - loss: 0.2551 - accuracy: 0.9347\n",
            "Epoch 6: val_accuracy did not improve from 0.94355\n",
            "\n",
            "Epoch 6: ReduceLROnPlateau reducing learning rate to 8.999999772640877e-06.\n",
            "109/109 [==============================] - 10s 91ms/step - loss: 0.2551 - accuracy: 0.9347 - val_loss: 0.2512 - val_accuracy: 0.9435 - lr: 3.0000e-05\n",
            "Epoch 7/30\n",
            "109/109 [==============================] - ETA: 0s - loss: 0.2527 - accuracy: 0.9373\n",
            "Epoch 7: val_accuracy did not improve from 0.94355\n",
            "109/109 [==============================] - 10s 92ms/step - loss: 0.2527 - accuracy: 0.9373 - val_loss: 0.2556 - val_accuracy: 0.9435 - lr: 9.0000e-06\n",
            "Epoch 7: early stopping\n",
            "CPU times: user 2min 6s, sys: 9.95 s, total: 2min 16s\n",
            "Wall time: 15min 29s\n"
          ]
        }
      ]
    },
    {
      "cell_type": "code",
      "source": [
        "fig , ax = plt.subplots(1,2)\n",
        "fig.set_size_inches(20, 8)\n",
        "\n",
        "train_acc = history.history['accuracy']\n",
        "train_loss = history.history['loss']\n",
        "val_acc = history.history['val_accuracy']\n",
        "val_loss = history.history['val_loss']\n",
        "\n",
        "epochs = range(1, len(train_acc) + 1)\n",
        "\n",
        "ax[0].plot(epochs , train_acc , 'g-o' , label = 'Training Accuracy')\n",
        "ax[0].plot(epochs , val_acc , 'y-o' , label = 'Validation Accuracy')\n",
        "ax[0].set_title('Model Training & Validation Accuracy')\n",
        "ax[0].legend(loc = 'lower right')\n",
        "ax[0].set_xlabel(\"Epochs\")\n",
        "ax[0].set_ylabel(\"Accuracy\")\n",
        "\n",
        "ax[1].plot(epochs , train_loss , 'g-o' , label = 'Training Loss')\n",
        "ax[1].plot(epochs , val_loss , 'y-o' , label = 'Validation Loss')\n",
        "ax[1].set_title('Model Training & Validation & Loss')\n",
        "ax[1].legend()\n",
        "ax[1].set_xlabel(\"Epochs\")\n",
        "ax[1].set_ylabel(\"Loss\")\n",
        "\n",
        "plt.show()"
      ],
      "metadata": {
        "id": "wgpmiPFTKfkC"
      },
      "execution_count": null,
      "outputs": []
    },
    {
      "cell_type": "code",
      "source": [
        "print('Train accuracy & loss:', model.evaluate(train_data))\n",
        "print('\\n')\n",
        "print('Test accuracy & loss:', model.evaluate(test_data))"
      ],
      "metadata": {
        "id": "VKULeINRKg4S",
        "colab": {
          "base_uri": "https://localhost:8080/"
        },
        "outputId": "18069106-c114-4a00-c0bc-309da9b23162"
      },
      "execution_count": null,
      "outputs": [
        {
          "output_type": "stream",
          "name": "stdout",
          "text": [
            "109/109 [==============================] - 7s 66ms/step - loss: 0.2495 - accuracy: 0.9433\n",
            "Train accuracy & loss: [0.2494623214006424, 0.9433093667030334]\n",
            "\n",
            "\n",
            "75/75 [==============================] - 624s 8s/step - loss: 0.5883 - accuracy: 0.8637\n",
            "Test accuracy & loss: [0.588322639465332, 0.8637130856513977]\n"
          ]
        }
      ]
    },
    {
      "cell_type": "code",
      "source": [
        "def plot_confusion_matrix(cm, classes,\n",
        "                          normalize = False,\n",
        "                          title = 'Confusion Matrix',\n",
        "                          cmap = plt.cm.Blues):\n",
        "    \n",
        "    plt.figure(figsize = (6,6))\n",
        "    plt.imshow(cm, interpolation = 'nearest', cmap = cmap)\n",
        "    plt.title(title)\n",
        "    plt.colorbar()\n",
        "    plt.grid(False)\n",
        "    tick_marks = np.arange(len(classes))\n",
        "    plt.xticks(tick_marks, classes, rotation = 90)\n",
        "    plt.yticks(tick_marks, classes)\n",
        "    if normalize:\n",
        "        cm = cm.astype('float') / cm.sum(axis = 1)[:, np.newaxis]\n",
        "\n",
        "    thresh = cm.max() / 2.\n",
        "    cm = np.round(cm,2)\n",
        "    for i, j in itertools.product(range(cm.shape[0]), range(cm.shape[1])):\n",
        "        plt.text(j, i, cm[i, j],\n",
        "                 fontsize = 12,\n",
        "                 horizontalalignment = \"center\",\n",
        "                 color = \"white\" if cm[i, j] > thresh else \"black\")\n",
        "    plt.tight_layout()\n",
        "    plt.ylabel('True label')\n",
        "    plt.xlabel('Predicted label')\n",
        "    plt.show()"
      ],
      "metadata": {
        "id": "K06Cb8DmKhgx"
      },
      "execution_count": null,
      "outputs": []
    },
    {
      "cell_type": "code",
      "source": [
        "# Confusion Matrix\n",
        "label_test = test_data.classes\n",
        "label_predict = np.argmax(model.predict(test_data), axis=1)\n",
        "confusion_matrix = confusion_matrix(label_test, label_predict)\n",
        "print(confusion_matrix)\n",
        "plot_confusion_matrix(confusion_matrix, classes, normalize=False)"
      ],
      "metadata": {
        "id": "um0MamhpKjtx"
      },
      "execution_count": null,
      "outputs": []
    },
    {
      "cell_type": "code",
      "source": [
        "# Classification Report\n",
        "print(classification_report(label_test, label_predict))"
      ],
      "metadata": {
        "id": "yx8xHuHtKmRB"
      },
      "execution_count": null,
      "outputs": []
    },
    {
      "cell_type": "code",
      "source": [
        "## Predictions on Testing dataset\n",
        "\n",
        "dict_label = {0: 'angry',\n",
        "              1: 'fear',\n",
        "              2: 'happy'}\n",
        "              \n",
        "prediction = []\n",
        "original = []\n",
        "image = []\n",
        "count = 0\n",
        "for i in os.listdir('/content/drive/MyDrive/Facial Emotion Recognition/test_cropped/'):\n",
        "  for item in os.listdir(os.path.join('/content/drive/MyDrive/Facial Emotion Recognition/test_cropped/', i)):\n",
        "    img= PIL.Image.open(os.path.join('/content/drive/MyDrive/Facial Emotion Recognition/test_cropped/', i, item))\n",
        "    image.append(img)\n",
        "    img = np.expand_dims(img, axis=0)\n",
        "    predict = model.predict(img)\n",
        "    predict = np.argmax(predict)\n",
        "    prediction.append(dict_label[predict]) \n",
        "    original.append(i)"
      ],
      "metadata": {
        "id": "Nsd-RC-KKnri"
      },
      "execution_count": null,
      "outputs": []
    },
    {
      "cell_type": "code",
      "source": [
        "# Accuracy of Test  \n",
        "accuracy = accuracy_score(original, prediction)\n",
        "print(\"Test Accuracy : {}\".format(accuracy))"
      ],
      "metadata": {
        "id": "Q_P72LuJKofK",
        "colab": {
          "base_uri": "https://localhost:8080/"
        },
        "outputId": "4a6c48f0-85b2-4ce3-f06d-2ebecdfcf77e"
      },
      "execution_count": null,
      "outputs": [
        {
          "output_type": "stream",
          "name": "stdout",
          "text": [
            "Test Accuracy : 0.8643459915611814\n"
          ]
        }
      ]
    },
    {
      "cell_type": "code",
      "source": [
        "# Result\n",
        "fig = plt.figure(figsize = (20, 20))\n",
        "for i in range(2):\n",
        "    j = random.randint(0, len(image))\n",
        "    fig.add_subplot(5, 2, i+1)\n",
        "    plt.xlabel(\"Prediction: \" + prediction[j] +\"   Original: \" + original[j])\n",
        "    plt.imshow(image[j])\n",
        "fig.tight_layout()\n",
        "plt.show()"
      ],
      "metadata": {
        "id": "gWFCqAKuKprB",
        "colab": {
          "base_uri": "https://localhost:8080/",
          "height": 313
        },
        "outputId": "0f7878ac-ea84-43aa-fb82-3c8883d2173f"
      },
      "execution_count": null,
      "outputs": [
        {
          "output_type": "display_data",
          "data": {
            "text/plain": [
              "<Figure size 1440x1440 with 2 Axes>"
            ],
            "image/png": "[encoded data removed]"
          },
          "metadata": {
            "needs_background": "light"
          }
        }
      ]
    },
    {
      "cell_type": "markdown",
      "source": [
        "*References:*\n",
        "\n",
        "\n",
        "\n",
        "*  Abhinav Agrawal and Namita Mittal. Using CNN for facial expression recognition: a study of the effects of kernel size and number of filters on accuracy. The Visual Computer, 36(2):405–412, 2020.\n",
        "* Beat Fasel and Juergen Luettin. Automatic facial expression analysis: a\n",
        "survey. Pattern recognition, 36(1):259–275, 2003.\n",
        "* Ning Zhou, Renyu Liang, and Wenqian Shi. A lightweight convolutional\n",
        "neural network for real-time facial expression detection. IEEE Access,\n",
        "9:5573–5584, 2020.\n",
        "\n",
        "\n",
        "\n",
        "\n"
      ],
      "metadata": {
        "id": "PCFKzSPeD0LC"
      }
    }
  ]
}