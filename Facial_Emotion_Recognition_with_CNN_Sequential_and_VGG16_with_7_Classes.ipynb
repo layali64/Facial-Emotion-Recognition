{
  "cells": [
    {
      "cell_type": "markdown",
      "source": [
        "##**Hardware Setting**\n"
      ],
      "metadata": {
        "id": "xaWxUwD3LXmf"
      }
    },
    {
      "cell_type": "code",
      "source": [
        "!nvidia-smi"
      ],
      "metadata": {
        "colab": {
          "base_uri": "https://localhost:8080/",
          "height": 0
        },
        "id": "EHcq9jooVlvw",
        "outputId": "667cceca-d056-4a9d-8771-838e7bee95ae"
      },
      "execution_count": 2,
      "outputs": [
        {
          "output_type": "stream",
          "name": "stdout",
          "text": [
            "Wed Nov 30 21:31:35 2022       \n",
            "+-----------------------------------------------------------------------------+\n",
            "| NVIDIA-SMI 460.32.03    Driver Version: 460.32.03    CUDA Version: 11.2     |\n",
            "|-------------------------------+----------------------+----------------------+\n",
            "| GPU  Name        Persistence-M| Bus-Id        Disp.A | Volatile Uncorr. ECC |\n",
            "| Fan  Temp  Perf  Pwr:Usage/Cap|         Memory-Usage | GPU-Util  Compute M. |\n",
            "|                               |                      |               MIG M. |\n",
            "|===============================+======================+======================|\n",
            "|   0  Tesla T4            Off  | 00000000:00:04.0 Off |                    0 |\n",
            "| N/A   41C    P8     9W /  70W |      0MiB / 15109MiB |      0%      Default |\n",
            "|                               |                      |                  N/A |\n",
            "+-------------------------------+----------------------+----------------------+\n",
            "                                                                               \n",
            "+-----------------------------------------------------------------------------+\n",
            "| Processes:                                                                  |\n",
            "|  GPU   GI   CI        PID   Type   Process name                  GPU Memory |\n",
            "|        ID   ID                                                   Usage      |\n",
            "|=============================================================================|\n",
            "|  No running processes found                                                 |\n",
            "+-----------------------------------------------------------------------------+\n"
          ]
        }
      ]
    },
    {
      "cell_type": "code",
      "source": [
        "%cd /content/drive/MyDrive/Facial Emotion Recognition/FER2013_pixel"
      ],
      "metadata": {
        "colab": {
          "base_uri": "https://localhost:8080/",
          "height": 0
        },
        "id": "HNHoE6ZycW_z",
        "outputId": "9948c6b4-a71b-4948-8968-e8913c16df04"
      },
      "execution_count": 3,
      "outputs": [
        {
          "output_type": "stream",
          "name": "stdout",
          "text": [
            "[Errno 2] No such file or directory: '/content/drive/MyDrive/Facial Emotion Recognition/FER2013_pixel'\n",
            "/content\n"
          ]
        }
      ]
    },
    {
      "cell_type": "code",
      "source": [
        "#! pip install -q kaggle"
      ],
      "metadata": {
        "id": "fyYgiGbocaCc"
      },
      "execution_count": null,
      "outputs": []
    },
    {
      "cell_type": "code",
      "source": [
        "# from google.colab import files\n",
        "# files.upload()"
      ],
      "metadata": {
        "id": "4dVxhlhGcb5c"
      },
      "execution_count": null,
      "outputs": []
    },
    {
      "cell_type": "code",
      "source": [
        "#! mkdir ~/.kaggle"
      ],
      "metadata": {
        "id": "tzoUim3Scdbl"
      },
      "execution_count": null,
      "outputs": []
    },
    {
      "cell_type": "code",
      "source": [
        "#! cp kaggle.json ~/.kaggle/"
      ],
      "metadata": {
        "id": "jSwKMow7cfNq"
      },
      "execution_count": null,
      "outputs": []
    },
    {
      "cell_type": "code",
      "source": [
        "#! chmod 600 ~/.kaggle/kaggle.json"
      ],
      "metadata": {
        "id": "LRcfrRsScj_D"
      },
      "execution_count": null,
      "outputs": []
    },
    {
      "cell_type": "code",
      "source": [
        "#! kaggle datasets list"
      ],
      "metadata": {
        "id": "UZ7wwgXQckZp"
      },
      "execution_count": null,
      "outputs": []
    },
    {
      "cell_type": "code",
      "source": [
        "#!kaggle competitions download -c challenges-in-representation-learning-facial-expression-recognition-challenge\n"
      ],
      "metadata": {
        "id": "h4vATbU_cliT"
      },
      "execution_count": null,
      "outputs": []
    },
    {
      "cell_type": "code",
      "source": [
        "#!unzip challenges-in-representation-learning-facial-expression-recognition-challenge\n"
      ],
      "metadata": {
        "id": "mZ2HvSmmcmua"
      },
      "execution_count": null,
      "outputs": []
    },
    {
      "cell_type": "code",
      "source": [
        "#!tar -xvf  'fer2013.tar.gz' -C 'Dataset'\n"
      ],
      "metadata": {
        "id": "yL2DmERxcn76"
      },
      "execution_count": null,
      "outputs": []
    },
    {
      "cell_type": "markdown",
      "source": [
        "##**Import Libraries**"
      ],
      "metadata": {
        "id": "Ii69hClPLfeI"
      }
    },
    {
      "cell_type": "code",
      "execution_count": 66,
      "metadata": {
        "id": "j_rYlVUVaDSq"
      },
      "outputs": [],
      "source": [
        "import math\n",
        "import numpy as np\n",
        "import pandas as pd\n",
        "import seaborn as sns\n",
        "from matplotlib import pyplot\n",
        "import matplotlib.pyplot as plt\n",
        "from sklearn.model_selection import train_test_split\n",
        "from sklearn.preprocessing import LabelEncoder\n",
        "from sklearn.metrics import classification_report\n",
        "from keras.utils.vis_utils import plot_model\n",
        "import tensorflow as tf\n",
        "from tensorflow.keras import optimizers\n",
        "from tensorflow.keras.models import Sequential\n",
        "from tensorflow.keras.layers import Flatten, Dense, Conv2D, MaxPooling2D\n",
        "from tensorflow.keras.layers import Dropout, BatchNormalization, LeakyReLU, Activation\n",
        "from tensorflow.keras.callbacks import Callback, EarlyStopping, ReduceLROnPlateau\n",
        "from tensorflow.keras.callbacks import ModelCheckpoint\n",
        "from tensorflow.keras.preprocessing.image import ImageDataGenerator\n",
        "from keras.losses import categorical_crossentropy\n",
        "from keras.optimizers import Adam\n",
        "from keras.utils import np_utils\n",
        "import scikitplot\n",
        "from keras.utils.vis_utils import plot_model\n",
        "import warnings\n",
        "warnings.filterwarnings(\"ignore\")"
      ]
    },
    {
      "cell_type": "markdown",
      "source": [
        "##**Dataset**"
      ],
      "metadata": {
        "id": "JEn9GqnLLlQA"
      }
    },
    {
      "cell_type": "code",
      "execution_count": 9,
      "metadata": {
        "colab": {
          "base_uri": "https://localhost:8080/",
          "height": 206
        },
        "id": "f7-E16AyaGTv",
        "outputId": "7c850781-e6fd-4e13-fcfe-494a86d6b8ec"
      },
      "outputs": [
        {
          "output_type": "execute_result",
          "data": {
            "text/plain": [
              "   emotion                                             pixels     Usage\n",
              "0        0  70 80 82 72 58 58 60 63 54 58 60 48 89 115 121...  Training\n",
              "1        0  151 150 147 155 148 133 111 140 170 174 182 15...  Training\n",
              "2        2  231 212 156 164 174 138 161 173 182 200 106 38...  Training\n",
              "3        4  24 32 36 30 32 23 19 20 30 41 21 22 32 34 21 1...  Training\n",
              "4        6  4 0 0 0 0 0 0 0 0 0 0 0 3 15 23 28 48 50 58 84...  Training"
            ],
            "text/html": [
              "\n",
              "  <div id=\"df-35e0ac54-9544-44bb-8eb3-4882af739778\">\n",
              "    <div class=\"colab-df-container\">\n",
              "      <div>\n",
              "<style scoped>\n",
              "    .dataframe tbody tr th:only-of-type {\n",
              "        vertical-align: middle;\n",
              "    }\n",
              "\n",
              "    .dataframe tbody tr th {\n",
              "        vertical-align: top;\n",
              "    }\n",
              "\n",
              "    .dataframe thead th {\n",
              "        text-align: right;\n",
              "    }\n",
              "</style>\n",
              "<table border=\"1\" class=\"dataframe\">\n",
              "  <thead>\n",
              "    <tr style=\"text-align: right;\">\n",
              "      <th></th>\n",
              "      <th>emotion</th>\n",
              "      <th>pixels</th>\n",
              "      <th>Usage</th>\n",
              "    </tr>\n",
              "  </thead>\n",
              "  <tbody>\n",
              "    <tr>\n",
              "      <th>0</th>\n",
              "      <td>0</td>\n",
              "      <td>70 80 82 72 58 58 60 63 54 58 60 48 89 115 121...</td>\n",
              "      <td>Training</td>\n",
              "    </tr>\n",
              "    <tr>\n",
              "      <th>1</th>\n",
              "      <td>0</td>\n",
              "      <td>151 150 147 155 148 133 111 140 170 174 182 15...</td>\n",
              "      <td>Training</td>\n",
              "    </tr>\n",
              "    <tr>\n",
              "      <th>2</th>\n",
              "      <td>2</td>\n",
              "      <td>231 212 156 164 174 138 161 173 182 200 106 38...</td>\n",
              "      <td>Training</td>\n",
              "    </tr>\n",
              "    <tr>\n",
              "      <th>3</th>\n",
              "      <td>4</td>\n",
              "      <td>24 32 36 30 32 23 19 20 30 41 21 22 32 34 21 1...</td>\n",
              "      <td>Training</td>\n",
              "    </tr>\n",
              "    <tr>\n",
              "      <th>4</th>\n",
              "      <td>6</td>\n",
              "      <td>4 0 0 0 0 0 0 0 0 0 0 0 3 15 23 28 48 50 58 84...</td>\n",
              "      <td>Training</td>\n",
              "    </tr>\n",
              "  </tbody>\n",
              "</table>\n",
              "</div>\n",
              "      <button class=\"colab-df-convert\" onclick=\"convertToInteractive('df-35e0ac54-9544-44bb-8eb3-4882af739778')\"\n",
              "              title=\"Convert this dataframe to an interactive table.\"\n",
              "              style=\"display:none;\">\n",
              "        \n",
              "  <svg xmlns=\"http://www.w3.org/2000/svg\" height=\"24px\"viewBox=\"0 0 24 24\"\n",
              "       width=\"24px\">\n",
              "    <path d=\"M0 0h24v24H0V0z\" fill=\"none\"/>\n",
              "    <path d=\"M18.56 5.44l.94 2.06.94-2.06 2.06-.94-2.06-.94-.94-2.06-.94 2.06-2.06.94zm-11 1L8.5 8.5l.94-2.06 2.06-.94-2.06-.94L8.5 2.5l-.94 2.06-2.06.94zm10 10l.94 2.06.94-2.06 2.06-.94-2.06-.94-.94-2.06-.94 2.06-2.06.94z\"/><path d=\"M17.41 7.96l-1.37-1.37c-.4-.4-.92-.59-1.43-.59-.52 0-1.04.2-1.43.59L10.3 9.45l-7.72 7.72c-.78.78-.78 2.05 0 2.83L4 21.41c.39.39.9.59 1.41.59.51 0 1.02-.2 1.41-.59l7.78-7.78 2.81-2.81c.8-.78.8-2.07 0-2.86zM5.41 20L4 18.59l7.72-7.72 1.47 1.35L5.41 20z\"/>\n",
              "  </svg>\n",
              "      </button>\n",
              "      \n",
              "  <style>\n",
              "    .colab-df-container {\n",
              "      display:flex;\n",
              "      flex-wrap:wrap;\n",
              "      gap: 12px;\n",
              "    }\n",
              "\n",
              "    .colab-df-convert {\n",
              "      background-color: #E8F0FE;\n",
              "      border: none;\n",
              "      border-radius: 50%;\n",
              "      cursor: pointer;\n",
              "      display: none;\n",
              "      fill: #1967D2;\n",
              "      height: 32px;\n",
              "      padding: 0 0 0 0;\n",
              "      width: 32px;\n",
              "    }\n",
              "\n",
              "    .colab-df-convert:hover {\n",
              "      background-color: #E2EBFA;\n",
              "      box-shadow: 0px 1px 2px rgba(60, 64, 67, 0.3), 0px 1px 3px 1px rgba(60, 64, 67, 0.15);\n",
              "      fill: #174EA6;\n",
              "    }\n",
              "\n",
              "    [theme=dark] .colab-df-convert {\n",
              "      background-color: #3B4455;\n",
              "      fill: #D2E3FC;\n",
              "    }\n",
              "\n",
              "    [theme=dark] .colab-df-convert:hover {\n",
              "      background-color: #434B5C;\n",
              "      box-shadow: 0px 1px 3px 1px rgba(0, 0, 0, 0.15);\n",
              "      filter: drop-shadow(0px 1px 2px rgba(0, 0, 0, 0.3));\n",
              "      fill: #FFFFFF;\n",
              "    }\n",
              "  </style>\n",
              "\n",
              "      <script>\n",
              "        const buttonEl =\n",
              "          document.querySelector('#df-35e0ac54-9544-44bb-8eb3-4882af739778 button.colab-df-convert');\n",
              "        buttonEl.style.display =\n",
              "          google.colab.kernel.accessAllowed ? 'block' : 'none';\n",
              "\n",
              "        async function convertToInteractive(key) {\n",
              "          const element = document.querySelector('#df-35e0ac54-9544-44bb-8eb3-4882af739778');\n",
              "          const dataTable =\n",
              "            await google.colab.kernel.invokeFunction('convertToInteractive',\n",
              "                                                     [key], {});\n",
              "          if (!dataTable) return;\n",
              "\n",
              "          const docLinkHtml = 'Like what you see? Visit the ' +\n",
              "            '<a target=\"_blank\" href=https://colab.research.google.com/notebooks/data_table.ipynb>data table notebook</a>'\n",
              "            + ' to learn more about interactive tables.';\n",
              "          element.innerHTML = '';\n",
              "          dataTable['output_type'] = 'display_data';\n",
              "          await google.colab.output.renderOutput(dataTable, element);\n",
              "          const docLink = document.createElement('div');\n",
              "          docLink.innerHTML = docLinkHtml;\n",
              "          element.appendChild(docLink);\n",
              "        }\n",
              "      </script>\n",
              "    </div>\n",
              "  </div>\n",
              "  "
            ]
          },
          "metadata": {},
          "execution_count": 9
        }
      ],
      "source": [
        "data = pd.read_csv(\"/content/drive/MyDrive/Facial_Emotion_Recognition/Dataset/fer2013/fer2013.csv\")\n",
        "data.head()"
      ]
    },
    {
      "cell_type": "code",
      "execution_count": 10,
      "metadata": {
        "colab": {
          "base_uri": "https://localhost:8080/",
          "height": 0
        },
        "id": "lUEBHgGEaIGN",
        "outputId": "c826cc55-fc33-4ba7-aa9b-90bac5b78405"
      },
      "outputs": [
        {
          "output_type": "execute_result",
          "data": {
            "text/plain": [
              "3    8989\n",
              "6    6198\n",
              "4    6077\n",
              "2    5121\n",
              "0    4953\n",
              "5    4002\n",
              "1     547\n",
              "Name: emotion, dtype: int64"
            ]
          },
          "metadata": {},
          "execution_count": 10
        }
      ],
      "source": [
        "data['emotion'].value_counts()"
      ]
    },
    {
      "cell_type": "markdown",
      "source": [
        "##**Dataset Distribution**"
      ],
      "metadata": {
        "id": "xrR_IvxbLrGy"
      }
    },
    {
      "cell_type": "code",
      "execution_count": 11,
      "metadata": {
        "colab": {
          "base_uri": "https://localhost:8080/",
          "height": 354
        },
        "id": "YxqluIXjaZe8",
        "outputId": "d2f03a6a-5d37-4775-f597-43c7377ec382"
      },
      "outputs": [
        {
          "output_type": "execute_result",
          "data": {
            "text/plain": [
              "Text(0.5, 1.0, 'Emotion Distribution')"
            ]
          },
          "metadata": {},
          "execution_count": 11
        },
        {
          "output_type": "display_data",
          "data": {
            "text/plain": [
              "<Figure size 720x360 with 1 Axes>"
            ],
            "image/png": "[encoded data removed]"
          },
          "metadata": {
            "needs_background": "light"
          }
        }
      ],
      "source": [
        "data['emotion'].value_counts().plot.bar(figsize=(10,5))\n",
        "plt.title('Emotion Distribution',fontsize=20)"
      ]
    },
    {
      "cell_type": "code",
      "source": [],
      "metadata": {
        "id": "AAhkkV-zASsp"
      },
      "execution_count": null,
      "outputs": []
    },
    {
      "cell_type": "code",
      "execution_count": 12,
      "metadata": {
        "colab": {
          "base_uri": "https://localhost:8080/",
          "height": 264
        },
        "id": "ULsdhFFlRO_N",
        "outputId": "33102e5e-b4dc-4839-ddfc-7787d3d8bfe6"
      },
      "outputs": [
        {
          "output_type": "display_data",
          "data": {
            "text/plain": [
              "<Figure size 432x288 with 1 Axes>"
            ],
            "image/png": "[encoded data removed]"
          },
          "metadata": {}
        }
      ],
      "source": [
        "emotions_pie = {3: 'Happy',6: 'Neutral',  4: 'Sad', 2: 'Fear',0: 'Angry',   5: 'Surprise',1: 'Disgust' }\n",
        "\n",
        "import seaborn as sns\n",
        "colors = sns.color_palette('YlGnBu')\n",
        "plt.pie(data['emotion'].value_counts(), \n",
        "      labels = emotions_pie.values(), \n",
        "        autopct = '%1.1f%%',\n",
        "       # startangle =90,\n",
        "        colors=colors\n",
        "        )\n",
        "plt.title('Emotion Distribution')\n",
        "plt.show()\n"
      ]
    },
    {
      "cell_type": "markdown",
      "metadata": {
        "id": "PfjwXB2LabzK"
      },
      "source": [
        "## **Upsampling**"
      ]
    },
    {
      "cell_type": "code",
      "execution_count": 13,
      "metadata": {
        "colab": {
          "base_uri": "https://localhost:8080/",
          "height": 0
        },
        "id": "JzZ84BFDaavx",
        "outputId": "0278627b-eb6c-466c-e290-c5ebfcb074bb"
      },
      "outputs": [
        {
          "output_type": "stream",
          "name": "stdout",
          "text": [
            "(8989, 3)\n"
          ]
        }
      ],
      "source": [
        "print((data[data['emotion']==3]).shape)"
      ]
    },
    {
      "cell_type": "code",
      "execution_count": 14,
      "metadata": {
        "id": "qtH5B4p1ag3A"
      },
      "outputs": [],
      "source": [
        "from sklearn.utils import resample\n",
        "majority = data[(data['emotion']==3)] \n",
        "minority = data[(data['emotion']==6)] \n",
        "majority_downsampled = resample(majority, \n",
        "                                 replace=True,    \n",
        "                                 n_samples=6198,     \n",
        "                                 random_state=123) \n",
        " \n",
        "\n",
        "#downsampled = pd.concat([majority_downsampled, minority])"
      ]
    },
    {
      "cell_type": "code",
      "execution_count": 15,
      "metadata": {
        "colab": {
          "base_uri": "https://localhost:8080/",
          "height": 0
        },
        "id": "eXlt0kKCaii4",
        "outputId": "0b69e3b3-0289-4a12-f90b-8d81b7688b5a"
      },
      "outputs": [
        {
          "output_type": "stream",
          "name": "stdout",
          "text": [
            "(6198, 3)\n"
          ]
        }
      ],
      "source": [
        "print(majority_downsampled.shape)"
      ]
    },
    {
      "cell_type": "code",
      "execution_count": 16,
      "metadata": {
        "id": "pC_6VmJ3alGe"
      },
      "outputs": [],
      "source": [
        "from dataclasses import replace\n",
        "index = data[(data['emotion'] == 3)].index\n",
        "data.drop(index, inplace=True)"
      ]
    },
    {
      "cell_type": "code",
      "execution_count": 17,
      "metadata": {
        "colab": {
          "base_uri": "https://localhost:8080/",
          "height": 0
        },
        "id": "QcNhAAwWamO_",
        "outputId": "0383ce49-8eaf-4afa-992f-c8d6560454cb"
      },
      "outputs": [
        {
          "output_type": "execute_result",
          "data": {
            "text/plain": [
              "6    6198\n",
              "4    6077\n",
              "2    5121\n",
              "0    4953\n",
              "5    4002\n",
              "1     547\n",
              "Name: emotion, dtype: int64"
            ]
          },
          "metadata": {},
          "execution_count": 17
        }
      ],
      "source": [
        "data['emotion'].value_counts()"
      ]
    },
    {
      "cell_type": "code",
      "execution_count": 18,
      "metadata": {
        "id": "9uTo63qEaocn"
      },
      "outputs": [],
      "source": [
        "data = pd.concat([majority_downsampled, data])"
      ]
    },
    {
      "cell_type": "code",
      "execution_count": 19,
      "metadata": {
        "colab": {
          "base_uri": "https://localhost:8080/",
          "height": 0
        },
        "id": "MhItAizHaqr2",
        "outputId": "04c71cfa-f4d1-440b-d1c3-c49fb767e80f"
      },
      "outputs": [
        {
          "output_type": "execute_result",
          "data": {
            "text/plain": [
              "3    6198\n",
              "6    6198\n",
              "4    6077\n",
              "2    5121\n",
              "0    4953\n",
              "5    4002\n",
              "1     547\n",
              "Name: emotion, dtype: int64"
            ]
          },
          "metadata": {},
          "execution_count": 19
        }
      ],
      "source": [
        "data['emotion'].value_counts()"
      ]
    },
    {
      "cell_type": "markdown",
      "metadata": {
        "id": "VEX3x5wDawq5"
      },
      "source": [
        "##**Downsampling**"
      ]
    },
    {
      "cell_type": "code",
      "execution_count": 20,
      "metadata": {
        "colab": {
          "base_uri": "https://localhost:8080/",
          "height": 0
        },
        "id": "S0Eab-Gzaylf",
        "outputId": "ca900d61-283c-44ec-dcfb-8b333e28f388"
      },
      "outputs": [
        {
          "output_type": "stream",
          "name": "stdout",
          "text": [
            "(6198, 3)\n"
          ]
        }
      ],
      "source": [
        "print((data[data['emotion']==6]).shape)"
      ]
    },
    {
      "cell_type": "code",
      "execution_count": 21,
      "metadata": {
        "id": "wGV-TJ0Pa17f"
      },
      "outputs": [],
      "source": [
        "from sklearn.utils import resample\n",
        "majority = data[(data['emotion']==6)] \n",
        "minority = data[(data['emotion']==1)] \n",
        "\n",
        "minority_upsampled = resample(minority, \n",
        "                                 replace=True,   \n",
        "                                 n_samples= 6198, \n",
        "                                 random_state=42) \n",
        "\n",
        "#upsampled = pd.concat([minority_upsampled, ])"
      ]
    },
    {
      "cell_type": "code",
      "execution_count": 22,
      "metadata": {
        "colab": {
          "base_uri": "https://localhost:8080/",
          "height": 0
        },
        "id": "BnBj-vOga3GG",
        "outputId": "03fa5a32-b708-440c-938d-41d4f7b2ebc2"
      },
      "outputs": [
        {
          "output_type": "stream",
          "name": "stdout",
          "text": [
            "(6198, 3)\n"
          ]
        }
      ],
      "source": [
        "print(minority_upsampled.shape)"
      ]
    },
    {
      "cell_type": "code",
      "execution_count": 23,
      "metadata": {
        "colab": {
          "base_uri": "https://localhost:8080/",
          "height": 0
        },
        "id": "7wOQxIAMa5G1",
        "outputId": "2e6ec083-670a-4af8-b43a-9876939bc481"
      },
      "outputs": [
        {
          "output_type": "stream",
          "name": "stdout",
          "text": [
            "(33096, 3)\n"
          ]
        }
      ],
      "source": [
        "print(data.shape)"
      ]
    },
    {
      "cell_type": "code",
      "execution_count": 24,
      "metadata": {
        "id": "XxWE_77ua6at"
      },
      "outputs": [],
      "source": [
        "from dataclasses import replace\n",
        "index = data[(data['emotion'] == 1)].index\n",
        "data.drop(index, inplace=True)"
      ]
    },
    {
      "cell_type": "code",
      "execution_count": 25,
      "metadata": {
        "colab": {
          "base_uri": "https://localhost:8080/",
          "height": 0
        },
        "id": "15h5QbVva75m",
        "outputId": "b36c0765-9d3e-4fa4-f5ea-73db9e7aee10"
      },
      "outputs": [
        {
          "output_type": "execute_result",
          "data": {
            "text/plain": [
              "3    6198\n",
              "6    6198\n",
              "4    6077\n",
              "2    5121\n",
              "0    4953\n",
              "5    4002\n",
              "Name: emotion, dtype: int64"
            ]
          },
          "metadata": {},
          "execution_count": 25
        }
      ],
      "source": [
        "data['emotion'].value_counts()"
      ]
    },
    {
      "cell_type": "code",
      "execution_count": 26,
      "metadata": {
        "id": "Ke2MHx3Ga98u"
      },
      "outputs": [],
      "source": [
        "data = pd.concat([minority_upsampled, data])"
      ]
    },
    {
      "cell_type": "code",
      "execution_count": 27,
      "metadata": {
        "colab": {
          "base_uri": "https://localhost:8080/",
          "height": 0
        },
        "id": "C_jbi3UYa_X5",
        "outputId": "c5ea18f0-9971-4f02-f9b7-5b1425a6bb00"
      },
      "outputs": [
        {
          "output_type": "execute_result",
          "data": {
            "text/plain": [
              "1    6198\n",
              "3    6198\n",
              "6    6198\n",
              "4    6077\n",
              "2    5121\n",
              "0    4953\n",
              "5    4002\n",
              "Name: emotion, dtype: int64"
            ]
          },
          "metadata": {},
          "execution_count": 27
        }
      ],
      "source": [
        "data['emotion'].value_counts()"
      ]
    },
    {
      "cell_type": "code",
      "execution_count": 28,
      "metadata": {
        "colab": {
          "base_uri": "https://localhost:8080/",
          "height": 0
        },
        "id": "57l9kt2RbCfF",
        "outputId": "5379ec39-a7e3-43be-a079-662efccd397e"
      },
      "outputs": [
        {
          "output_type": "stream",
          "name": "stdout",
          "text": [
            "(6198, 3)\n"
          ]
        }
      ],
      "source": [
        "print((data[data['emotion']==1]).shape)"
      ]
    },
    {
      "cell_type": "markdown",
      "metadata": {
        "id": "sJwEu99mbGol"
      },
      "source": [
        "##**Balanced Dataset**"
      ]
    },
    {
      "cell_type": "code",
      "execution_count": 29,
      "metadata": {
        "colab": {
          "base_uri": "https://localhost:8080/",
          "height": 354
        },
        "id": "TFYzF25WbFUF",
        "outputId": "3da43077-5da0-464e-9161-ae2805c0be5e"
      },
      "outputs": [
        {
          "output_type": "execute_result",
          "data": {
            "text/plain": [
              "Text(0.5, 1.0, 'Emotion Distribution')"
            ]
          },
          "metadata": {},
          "execution_count": 29
        },
        {
          "output_type": "display_data",
          "data": {
            "text/plain": [
              "<Figure size 720x360 with 1 Axes>"
            ],
            "image/png": "[encoded data removed]"
          },
          "metadata": {
            "needs_background": "light"
          }
        }
      ],
      "source": [
        "data['emotion'].value_counts().plot.bar(figsize=(10,5))\n",
        "plt.title('Emotion Distribution',fontsize=20)"
      ]
    },
    {
      "cell_type": "code",
      "source": [],
      "metadata": {
        "id": "P9_qt3LjAV04"
      },
      "execution_count": null,
      "outputs": []
    },
    {
      "cell_type": "code",
      "execution_count": 30,
      "metadata": {
        "id": "_d36PoMlbQuq"
      },
      "outputs": [],
      "source": [
        "emotions = {0: 'Angry', 1: 'Disgust', 2: 'Fear', 3: 'Happy', 4: 'Sad', 5: 'Surprise', 6: 'Neutral'}\n"
      ]
    },
    {
      "cell_type": "code",
      "source": [],
      "metadata": {
        "id": "3gFgywTiAUtZ"
      },
      "execution_count": null,
      "outputs": []
    },
    {
      "cell_type": "code",
      "execution_count": 31,
      "metadata": {
        "colab": {
          "base_uri": "https://localhost:8080/",
          "height": 264
        },
        "id": "PUuUAWSabWbA",
        "outputId": "6f825f1d-e7ab-407f-d928-2ea5adfa2fb1"
      },
      "outputs": [
        {
          "output_type": "display_data",
          "data": {
            "text/plain": [
              "<Figure size 432x288 with 1 Axes>"
            ],
            "image/png": "[encoded data removed]"
          },
          "metadata": {}
        }
      ],
      "source": [
        "emotions_pie = {3: 'Happy',6: 'Neutral',  4: 'Sad', 2: 'Fear',0: 'Angry',   5: 'Surprise',1: 'Disgust' }\n",
        "\n",
        "import seaborn as sns\n",
        "colors = sns.color_palette('YlGnBu')\n",
        "plt.pie(data['emotion'].value_counts(), \n",
        "      labels = emotions_pie.values(), \n",
        "        autopct = '%1.1f%%',\n",
        "       # startangle =90,\n",
        "        colors=colors\n",
        "        )\n",
        "plt.title('Emotion Distribution')\n",
        "plt.show()\n"
      ]
    },
    {
      "cell_type": "code",
      "execution_count": null,
      "metadata": {
        "id": "wozutSXnhCRS"
      },
      "outputs": [],
      "source": [
        "fig = plt.figure(1, (14, 14))\n",
        "\n",
        "k = 0\n",
        "for label in sorted(data.emotion.unique()):\n",
        "    for j in range(7):\n",
        "        px = data[data.emotion==label].pixels.iloc[k]\n",
        "        px = np.array(px.split(' ')).reshape(48, 48).astype('float32')\n",
        "\n",
        "        k += 1\n",
        "        ax = pyplot.subplot(7, 7, k)\n",
        "        ax.imshow(px, cmap='gray')\n",
        "        ax.set_xticks([])\n",
        "        ax.set_yticks([])\n",
        "        ax.set_title(emotions[label])\n",
        "        plt.tight_layout()"
      ]
    },
    {
      "cell_type": "markdown",
      "source": [
        "##**Calculating Image Size**"
      ],
      "metadata": {
        "id": "g0t3WITOMLeA"
      }
    },
    {
      "cell_type": "code",
      "execution_count": 33,
      "metadata": {
        "colab": {
          "base_uri": "https://localhost:8080/",
          "height": 0
        },
        "id": "ygXVUQ0UbSYa",
        "outputId": "e6339855-95c3-443d-dee4-c9482e225f67"
      },
      "outputs": [
        {
          "output_type": "execute_result",
          "data": {
            "text/plain": [
              "48.0"
            ]
          },
          "metadata": {},
          "execution_count": 33
        }
      ],
      "source": [
        "\n",
        "import math\n",
        "math.sqrt(len(data.pixels[0].split(' ')))"
      ]
    },
    {
      "cell_type": "markdown",
      "source": [
        "##**Normalization**"
      ],
      "metadata": {
        "id": "mvS8iiGUMOiX"
      }
    },
    {
      "cell_type": "code",
      "execution_count": 34,
      "metadata": {
        "id": "74zLcTLThjQx"
      },
      "outputs": [],
      "source": [
        "img = data.pixels.apply(lambda x: np.array(x.split(' ')).reshape(48, 48, 1).astype('float32'))\n",
        "img = np.stack(img, axis=0)"
      ]
    },
    {
      "cell_type": "code",
      "execution_count": 35,
      "metadata": {
        "colab": {
          "base_uri": "https://localhost:8080/",
          "height": 0
        },
        "id": "psXGNiuqhoHK",
        "outputId": "12a9b036-aaec-4930-a33b-bb39ece69d1d"
      },
      "outputs": [
        {
          "output_type": "execute_result",
          "data": {
            "text/plain": [
              "(38747, 48, 48, 1)"
            ]
          },
          "metadata": {},
          "execution_count": 35
        }
      ],
      "source": [
        "img.shape"
      ]
    },
    {
      "cell_type": "code",
      "execution_count": 36,
      "metadata": {
        "colab": {
          "base_uri": "https://localhost:8080/",
          "height": 0
        },
        "id": "qdCcqKHqhs0n",
        "outputId": "a2f3dcf3-8fa5-4791-8727-8e20c31fa2f7"
      },
      "outputs": [
        {
          "output_type": "execute_result",
          "data": {
            "text/plain": [
              "(38747, 7)"
            ]
          },
          "metadata": {},
          "execution_count": 36
        }
      ],
      "source": [
        "le = LabelEncoder()\n",
        "labels = le.fit_transform(data.emotion)\n",
        "labels = np_utils.to_categorical(labels)\n",
        "labels.shape"
      ]
    },
    {
      "cell_type": "markdown",
      "source": [
        "##**Spliting Dataset**"
      ],
      "metadata": {
        "id": "SGOTr6fFMdq9"
      }
    },
    {
      "cell_type": "code",
      "execution_count": 37,
      "metadata": {
        "colab": {
          "base_uri": "https://localhost:8080/",
          "height": 0
        },
        "id": "f7bp4KKch2LI",
        "outputId": "b21f6ba4-6e12-41e1-90d1-5b6d3a65bf41"
      },
      "outputs": [
        {
          "output_type": "execute_result",
          "data": {
            "text/plain": [
              "((27122, 48, 48, 1), (11625, 48, 48, 1), (27122, 7), (11625, 7))"
            ]
          },
          "metadata": {},
          "execution_count": 37
        }
      ],
      "source": [
        "X_train, X_valid, y_train, y_valid = train_test_split(img, labels,\n",
        "                                                    shuffle=True, stratify=labels,\n",
        "                                                    test_size=0.3, random_state=42)\n",
        "X_train.shape, X_valid.shape, y_train.shape, y_valid.shape"
      ]
    },
    {
      "cell_type": "code",
      "execution_count": 76,
      "metadata": {
        "id": "yCBSx22HiEYT"
      },
      "outputs": [],
      "source": [
        "X_train = X_train / 255.\n",
        "X_valid = X_valid / 255."
      ]
    },
    {
      "cell_type": "code",
      "source": [
        "X_train_RGB = np.repeat(X_train, repeats=3, axis=3)\n",
        "X_valid_RGB = np.repeat(X_valid, repeats=3, axis=3)\n"
      ],
      "metadata": {
        "id": "HF8JQAvcp10U"
      },
      "execution_count": 77,
      "outputs": []
    },
    {
      "cell_type": "markdown",
      "source": [
        "##**Data Augmentation**"
      ],
      "metadata": {
        "id": "-D6i89VwY5oJ"
      }
    },
    {
      "cell_type": "code",
      "execution_count": 39,
      "metadata": {
        "id": "zjMjBKZJiO7_"
      },
      "outputs": [],
      "source": [
        "train_datagen = ImageDataGenerator(\n",
        "    rotation_range=15,\n",
        "    width_shift_range=0.15,\n",
        "    height_shift_range=0.15,\n",
        "    shear_range=0.15,\n",
        "    zoom_range=0.15,\n",
        "    horizontal_flip=True,\n",
        ")\n",
        "train_datagen.fit(X_train)"
      ]
    },
    {
      "cell_type": "markdown",
      "source": [
        "##**VGG16 Model**"
      ],
      "metadata": {
        "id": "IWIUu1m4pCRN"
      }
    },
    {
      "cell_type": "code",
      "source": [
        "base_model = tf.keras.applications.VGG16(input_shape = (48, 48, 3), include_top = False, weights = 'imagenet')\n",
        "\n",
        "base_model.trainable = False\n",
        "\n",
        "tf.keras.utils.plot_model(base_model, show_shapes=True)"
      ],
      "metadata": {
        "id": "ug6PTjAopBkl"
      },
      "execution_count": null,
      "outputs": []
    },
    {
      "cell_type": "code",
      "source": [
        "np.random.seed(7)\n",
        "tf.random.set_seed(7)\n",
        "\n",
        "model = Sequential([\n",
        "    base_model,\n",
        "    Flatten(),\n",
        "    Dense(64, activation='relu'),\n",
        "    Dropout(0.50),\n",
        "    Dense(32, activation='relu'),\n",
        "    Dropout(0.25),\n",
        "    Dense(32, activation='relu'),\n",
        "    Dropout(0.15),\n",
        "    Dense(7, activation='softmax')])\n",
        "\n",
        "model.summary()"
      ],
      "metadata": {
        "id": "h-WjtBCHpPOc"
      },
      "execution_count": null,
      "outputs": []
    },
    {
      "cell_type": "code",
      "source": [
        "base_model.trainable = True\n",
        "opt = tf.keras.optimizers.Adam(0.000001)\n",
        "model.compile(loss='categorical_crossentropy', optimizer=opt, metrics=['accuracy'])"
      ],
      "metadata": {
        "id": "wguBUb8Epgbe"
      },
      "execution_count": 79,
      "outputs": []
    },
    {
      "cell_type": "code",
      "source": [
        "%%time\n",
        "\n",
        "history = model.fit(\n",
        "    X_train_RGB,y_train,\n",
        "    steps_per_epoch=len(X_train_RGB) / 64,\n",
        "    epochs=200,\n",
        "    validation_data=(X_valid_RGB,y_valid),\n",
        "    validation_steps=len(X_valid_RGB) / 64,\n",
        "    verbose=1)"
      ],
      "metadata": {
        "id": "mgnUkwgxpi-W"
      },
      "execution_count": null,
      "outputs": []
    },
    {
      "cell_type": "markdown",
      "source": [
        "##**Checkpoint and EarlyStopping**"
      ],
      "metadata": {
        "id": "EAhrqai8M4dR"
      }
    },
    {
      "cell_type": "code",
      "source": [
        "checkpoint = ModelCheckpoint('model.h5',monitor='val_accuracy',save_best_only=True,mode='auto',verbose=1)\n",
        "\n",
        "\n",
        "earlystop = EarlyStopping(monitor='val_accuracy',patience=5,mode='auto',verbose=1)\n",
        "\n",
        "\n",
        "reduce_lr = ReduceLROnPlateau(monitor = 'val_accuracy', factor = 0.3, patience = 2, min_delta = 0.001,mode='auto',verbose=1)"
      ],
      "metadata": {
        "id": "dxcNtkURdtSM"
      },
      "execution_count": 62,
      "outputs": []
    },
    {
      "cell_type": "markdown",
      "source": [
        "##**CNN Sequentioal Model**"
      ],
      "metadata": {
        "id": "c8WOodC_assr"
      }
    },
    {
      "cell_type": "code",
      "source": [
        "input_shape = (48, 48, 1)\n",
        "output_class = 7\n",
        "model = Sequential()\n",
        "# convolutional layers\n",
        "model.add(Conv2D(128, kernel_size=(3,3), activation='relu', input_shape=input_shape))\n",
        "model.add(MaxPooling2D(pool_size=(2,2)))\n",
        "model.add(Dropout(0.4))\n",
        "\n",
        "model.add(Conv2D(256, kernel_size=(3,3), activation='relu'))\n",
        "model.add(MaxPooling2D(pool_size=(2,2)))\n",
        "model.add(Dropout(0.4))\n",
        "\n",
        "model.add(Conv2D(512, kernel_size=(3,3), activation='relu'))\n",
        "model.add(MaxPooling2D(pool_size=(2,2)))\n",
        "model.add(Dropout(0.4))\n",
        "\n",
        "model.add(Conv2D(512, kernel_size=(3,3), activation='relu'))\n",
        "model.add(MaxPooling2D(pool_size=(2,2)))\n",
        "model.add(Dropout(0.4))\n",
        "\n",
        "model.add(Flatten())\n",
        "# fully connected layers\n",
        "model.add(Dense(512, activation='relu'))\n",
        "model.add(Dropout(0.4))\n",
        "model.add(Dense(256, activation='relu'))\n",
        "model.add(Dropout(0.3))\n",
        "# output layer\n",
        "model.add(Dense(output_class, activation='softmax'))\n",
        "\n",
        "\n",
        "model.compile(optimizer='Adam',\n",
        "              loss='categorical_crossentropy',\n",
        "              metrics=['accuracy'])\n",
        "\n",
        "\n",
        "model.summary()"
      ],
      "metadata": {
        "id": "IL_A6OvUavaD"
      },
      "execution_count": null,
      "outputs": []
    },
    {
      "cell_type": "code",
      "source": [
        "plot_model(model, to_file = 'CNN Sequentioal Model.png', show_shapes = True, show_layer_names = True)"
      ],
      "metadata": {
        "id": "hQfEscEn5eDf"
      },
      "execution_count": null,
      "outputs": []
    },
    {
      "cell_type": "code",
      "source": [
        "%%time\n",
        "history = model.fit(x=X_train, y=y_train, \n",
        "                    batch_size=128, \n",
        "                    epochs=100, \n",
        "                    validation_data=(X_valid, y_valid),\n",
        "                    callbacks=[checkpoint, earlystop, reduce_lr])"
      ],
      "metadata": {
        "colab": {
          "base_uri": "https://localhost:8080/",
          "height": 0
        },
        "id": "tW-CtFiKd9sy",
        "outputId": "e817dc8d-ad07-40c2-dc87-8ced07519220"
      },
      "execution_count": 58,
      "outputs": [
        {
          "output_type": "stream",
          "name": "stdout",
          "text": [
            "Epoch 1/100\n",
            "212/212 [==============================] - ETA: 0s - loss: 2.2214 - accuracy: 0.2515\n",
            "Epoch 1: val_accuracy improved from -inf to 0.35277, saving model to model.h5\n",
            "212/212 [==============================] - 23s 91ms/step - loss: 2.2214 - accuracy: 0.2515 - val_loss: 1.7197 - val_accuracy: 0.3528 - lr: 0.0010\n",
            "Epoch 2/100\n",
            "212/212 [==============================] - ETA: 0s - loss: 1.6402 - accuracy: 0.3816\n",
            "Epoch 2: val_accuracy improved from 0.35277 to 0.47037, saving model to model.h5\n",
            "212/212 [==============================] - 17s 83ms/step - loss: 1.6402 - accuracy: 0.3816 - val_loss: 1.4184 - val_accuracy: 0.4704 - lr: 0.0010\n",
            "Epoch 3/100\n",
            "212/212 [==============================] - ETA: 0s - loss: 1.4490 - accuracy: 0.4541\n",
            "Epoch 3: val_accuracy improved from 0.47037 to 0.51475, saving model to model.h5\n",
            "212/212 [==============================] - 18s 83ms/step - loss: 1.4490 - accuracy: 0.4541 - val_loss: 1.2912 - val_accuracy: 0.5148 - lr: 0.0010\n",
            "Epoch 4/100\n",
            "212/212 [==============================] - ETA: 0s - loss: 1.3302 - accuracy: 0.5034\n",
            "Epoch 4: val_accuracy improved from 0.51475 to 0.55424, saving model to model.h5\n",
            "212/212 [==============================] - 18s 84ms/step - loss: 1.3302 - accuracy: 0.5034 - val_loss: 1.1802 - val_accuracy: 0.5542 - lr: 0.0010\n",
            "Epoch 5/100\n",
            "212/212 [==============================] - ETA: 0s - loss: 1.2369 - accuracy: 0.5378\n",
            "Epoch 5: val_accuracy did not improve from 0.55424\n",
            "212/212 [==============================] - 18s 83ms/step - loss: 1.2369 - accuracy: 0.5378 - val_loss: 1.2231 - val_accuracy: 0.5502 - lr: 0.0010\n",
            "Epoch 6/100\n",
            "212/212 [==============================] - ETA: 0s - loss: 1.1633 - accuracy: 0.5642\n",
            "Epoch 6: val_accuracy improved from 0.55424 to 0.58787, saving model to model.h5\n",
            "212/212 [==============================] - 18s 84ms/step - loss: 1.1633 - accuracy: 0.5642 - val_loss: 1.0854 - val_accuracy: 0.5879 - lr: 0.0010\n",
            "Epoch 7/100\n",
            "212/212 [==============================] - ETA: 0s - loss: 1.1030 - accuracy: 0.5874\n",
            "Epoch 7: val_accuracy improved from 0.58787 to 0.61411, saving model to model.h5\n",
            "212/212 [==============================] - 18s 84ms/step - loss: 1.1030 - accuracy: 0.5874 - val_loss: 1.0117 - val_accuracy: 0.6141 - lr: 0.0010\n",
            "Epoch 8/100\n",
            "212/212 [==============================] - ETA: 0s - loss: 1.0404 - accuracy: 0.6117\n",
            "Epoch 8: val_accuracy improved from 0.61411 to 0.62030, saving model to model.h5\n",
            "212/212 [==============================] - 18s 85ms/step - loss: 1.0404 - accuracy: 0.6117 - val_loss: 1.0122 - val_accuracy: 0.6203 - lr: 0.0010\n",
            "Epoch 9/100\n",
            "212/212 [==============================] - ETA: 0s - loss: 1.0026 - accuracy: 0.6250\n",
            "Epoch 9: val_accuracy improved from 0.62030 to 0.63708, saving model to model.h5\n",
            "212/212 [==============================] - 18s 85ms/step - loss: 1.0026 - accuracy: 0.6250 - val_loss: 0.9507 - val_accuracy: 0.6371 - lr: 0.0010\n",
            "Epoch 10/100\n",
            "212/212 [==============================] - ETA: 0s - loss: 0.9558 - accuracy: 0.6407\n",
            "Epoch 10: val_accuracy improved from 0.63708 to 0.64000, saving model to model.h5\n",
            "212/212 [==============================] - 18s 87ms/step - loss: 0.9558 - accuracy: 0.6407 - val_loss: 0.9476 - val_accuracy: 0.6400 - lr: 0.0010\n",
            "Epoch 11/100\n",
            "212/212 [==============================] - ETA: 0s - loss: 0.9185 - accuracy: 0.6581\n",
            "Epoch 11: val_accuracy improved from 0.64000 to 0.64912, saving model to model.h5\n",
            "212/212 [==============================] - 18s 85ms/step - loss: 0.9185 - accuracy: 0.6581 - val_loss: 0.9250 - val_accuracy: 0.6491 - lr: 0.0010\n",
            "Epoch 12/100\n",
            "212/212 [==============================] - ETA: 0s - loss: 0.8784 - accuracy: 0.6728\n",
            "Epoch 12: val_accuracy improved from 0.64912 to 0.65170, saving model to model.h5\n",
            "212/212 [==============================] - 18s 86ms/step - loss: 0.8784 - accuracy: 0.6728 - val_loss: 0.9415 - val_accuracy: 0.6517 - lr: 0.0010\n",
            "Epoch 13/100\n",
            "212/212 [==============================] - ETA: 0s - loss: 0.8426 - accuracy: 0.6872\n",
            "Epoch 13: val_accuracy improved from 0.65170 to 0.65634, saving model to model.h5\n",
            "212/212 [==============================] - 18s 86ms/step - loss: 0.8426 - accuracy: 0.6872 - val_loss: 0.9183 - val_accuracy: 0.6563 - lr: 0.0010\n",
            "Epoch 14/100\n",
            "212/212 [==============================] - ETA: 0s - loss: 0.8134 - accuracy: 0.6992\n",
            "Epoch 14: val_accuracy improved from 0.65634 to 0.66632, saving model to model.h5\n",
            "212/212 [==============================] - 19s 88ms/step - loss: 0.8134 - accuracy: 0.6992 - val_loss: 0.8982 - val_accuracy: 0.6663 - lr: 0.0010\n",
            "Epoch 15/100\n",
            "212/212 [==============================] - ETA: 0s - loss: 0.7822 - accuracy: 0.7119\n",
            "Epoch 15: val_accuracy did not improve from 0.66632\n",
            "212/212 [==============================] - 18s 85ms/step - loss: 0.7822 - accuracy: 0.7119 - val_loss: 0.9008 - val_accuracy: 0.6662 - lr: 0.0010\n",
            "Epoch 16/100\n",
            "212/212 [==============================] - ETA: 0s - loss: 0.7462 - accuracy: 0.7254\n",
            "Epoch 16: val_accuracy improved from 0.66632 to 0.66813, saving model to model.h5\n",
            "212/212 [==============================] - 18s 86ms/step - loss: 0.7462 - accuracy: 0.7254 - val_loss: 0.9366 - val_accuracy: 0.6681 - lr: 0.0010\n",
            "Epoch 17/100\n",
            "212/212 [==============================] - ETA: 0s - loss: 0.7196 - accuracy: 0.7355\n",
            "Epoch 17: val_accuracy did not improve from 0.66813\n",
            "212/212 [==============================] - 18s 85ms/step - loss: 0.7196 - accuracy: 0.7355 - val_loss: 0.9836 - val_accuracy: 0.6529 - lr: 0.0010\n",
            "Epoch 18/100\n",
            "212/212 [==============================] - ETA: 0s - loss: 0.6850 - accuracy: 0.7481\n",
            "Epoch 18: val_accuracy improved from 0.66813 to 0.67080, saving model to model.h5\n",
            "212/212 [==============================] - 18s 86ms/step - loss: 0.6850 - accuracy: 0.7481 - val_loss: 0.9157 - val_accuracy: 0.6708 - lr: 0.0010\n",
            "Epoch 19/100\n",
            "212/212 [==============================] - ETA: 0s - loss: 0.6726 - accuracy: 0.7547\n",
            "Epoch 19: val_accuracy improved from 0.67080 to 0.67948, saving model to model.h5\n",
            "212/212 [==============================] - 18s 86ms/step - loss: 0.6726 - accuracy: 0.7547 - val_loss: 0.9142 - val_accuracy: 0.6795 - lr: 0.0010\n",
            "Epoch 20/100\n",
            "212/212 [==============================] - ETA: 0s - loss: 0.6353 - accuracy: 0.7675\n",
            "Epoch 20: val_accuracy improved from 0.67948 to 0.68249, saving model to model.h5\n",
            "212/212 [==============================] - 18s 86ms/step - loss: 0.6353 - accuracy: 0.7675 - val_loss: 0.9036 - val_accuracy: 0.6825 - lr: 0.0010\n",
            "Epoch 21/100\n",
            "212/212 [==============================] - ETA: 0s - loss: 0.6025 - accuracy: 0.7793\n",
            "Epoch 21: val_accuracy did not improve from 0.68249\n",
            "212/212 [==============================] - 18s 85ms/step - loss: 0.6025 - accuracy: 0.7793 - val_loss: 0.9423 - val_accuracy: 0.6801 - lr: 0.0010\n",
            "Epoch 22/100\n",
            "212/212 [==============================] - ETA: 0s - loss: 0.5764 - accuracy: 0.7917\n",
            "Epoch 22: val_accuracy did not improve from 0.68249\n",
            "\n",
            "Epoch 22: ReduceLROnPlateau reducing learning rate to 0.0003000000142492354.\n",
            "212/212 [==============================] - 18s 85ms/step - loss: 0.5764 - accuracy: 0.7917 - val_loss: 0.9564 - val_accuracy: 0.6809 - lr: 0.0010\n",
            "Epoch 23/100\n",
            "212/212 [==============================] - ETA: 0s - loss: 0.4934 - accuracy: 0.8203\n",
            "Epoch 23: val_accuracy improved from 0.68249 to 0.69075, saving model to model.h5\n",
            "212/212 [==============================] - 19s 88ms/step - loss: 0.4934 - accuracy: 0.8203 - val_loss: 0.9142 - val_accuracy: 0.6908 - lr: 3.0000e-04\n",
            "Epoch 24/100\n",
            "212/212 [==============================] - ETA: 0s - loss: 0.4464 - accuracy: 0.8397\n",
            "Epoch 24: val_accuracy improved from 0.69075 to 0.69419, saving model to model.h5\n",
            "212/212 [==============================] - 18s 86ms/step - loss: 0.4464 - accuracy: 0.8397 - val_loss: 0.9292 - val_accuracy: 0.6942 - lr: 3.0000e-04\n",
            "Epoch 25/100\n",
            "212/212 [==============================] - ETA: 0s - loss: 0.4224 - accuracy: 0.8501\n",
            "Epoch 25: val_accuracy did not improve from 0.69419\n",
            "212/212 [==============================] - 18s 85ms/step - loss: 0.4224 - accuracy: 0.8501 - val_loss: 0.9498 - val_accuracy: 0.6921 - lr: 3.0000e-04\n",
            "Epoch 26/100\n",
            "212/212 [==============================] - ETA: 0s - loss: 0.3951 - accuracy: 0.8578\n",
            "Epoch 26: val_accuracy improved from 0.69419 to 0.69437, saving model to model.h5\n",
            "\n",
            "Epoch 26: ReduceLROnPlateau reducing learning rate to 9.000000427477062e-05.\n",
            "212/212 [==============================] - 18s 86ms/step - loss: 0.3951 - accuracy: 0.8578 - val_loss: 0.9785 - val_accuracy: 0.6944 - lr: 3.0000e-04\n",
            "Epoch 27/100\n",
            "212/212 [==============================] - ETA: 0s - loss: 0.3652 - accuracy: 0.8705\n",
            "Epoch 27: val_accuracy improved from 0.69437 to 0.69617, saving model to model.h5\n",
            "212/212 [==============================] - 19s 88ms/step - loss: 0.3652 - accuracy: 0.8705 - val_loss: 0.9832 - val_accuracy: 0.6962 - lr: 9.0000e-05\n",
            "Epoch 28/100\n",
            "212/212 [==============================] - ETA: 0s - loss: 0.3521 - accuracy: 0.8757\n",
            "Epoch 28: val_accuracy did not improve from 0.69617\n",
            "212/212 [==============================] - 18s 86ms/step - loss: 0.3521 - accuracy: 0.8757 - val_loss: 0.9817 - val_accuracy: 0.6935 - lr: 9.0000e-05\n",
            "Epoch 29/100\n",
            "212/212 [==============================] - ETA: 0s - loss: 0.3509 - accuracy: 0.8749\n",
            "Epoch 29: val_accuracy did not improve from 0.69617\n",
            "\n",
            "Epoch 29: ReduceLROnPlateau reducing learning rate to 2.700000040931627e-05.\n",
            "212/212 [==============================] - 18s 85ms/step - loss: 0.3509 - accuracy: 0.8749 - val_loss: 0.9923 - val_accuracy: 0.6952 - lr: 9.0000e-05\n",
            "Epoch 30/100\n",
            "212/212 [==============================] - ETA: 0s - loss: 0.3357 - accuracy: 0.8805\n",
            "Epoch 30: val_accuracy did not improve from 0.69617\n",
            "212/212 [==============================] - 18s 85ms/step - loss: 0.3357 - accuracy: 0.8805 - val_loss: 0.9943 - val_accuracy: 0.6959 - lr: 2.7000e-05\n",
            "Epoch 31/100\n",
            "212/212 [==============================] - ETA: 0s - loss: 0.3349 - accuracy: 0.8824\n",
            "Epoch 31: val_accuracy did not improve from 0.69617\n",
            "\n",
            "Epoch 31: ReduceLROnPlateau reducing learning rate to 8.100000013655517e-06.\n",
            "212/212 [==============================] - 18s 85ms/step - loss: 0.3349 - accuracy: 0.8824 - val_loss: 0.9983 - val_accuracy: 0.6949 - lr: 2.7000e-05\n",
            "Epoch 32/100\n",
            "212/212 [==============================] - ETA: 0s - loss: 0.3298 - accuracy: 0.8826\n",
            "Epoch 32: val_accuracy did not improve from 0.69617\n",
            "212/212 [==============================] - 18s 87ms/step - loss: 0.3298 - accuracy: 0.8826 - val_loss: 0.9975 - val_accuracy: 0.6943 - lr: 8.1000e-06\n",
            "Epoch 32: early stopping\n",
            "CPU times: user 6min 28s, sys: 14.6 s, total: 6min 43s\n",
            "Wall time: 9min 44s\n"
          ]
        }
      ]
    },
    {
      "cell_type": "markdown",
      "source": [
        "##**Checkpoint and EarlyStopping**"
      ],
      "metadata": {
        "id": "xG6shemmNEg_"
      }
    },
    {
      "cell_type": "code",
      "execution_count": 63,
      "metadata": {
        "id": "1ueg5qZhiMfL"
      },
      "outputs": [],
      "source": [
        "early_stopping = EarlyStopping(monitor='val_accuracy',min_delta=0.00005,patience=11,verbose=1,restore_best_weights=True)\n",
        "\n",
        "lr_scheduler = ReduceLROnPlateau(monitor='val_accuracy',factor=0.5,patience=7,min_lr=1e-7,verbose=1)\n",
        "\n",
        "callbacks = [early_stopping,lr_scheduler]"
      ]
    },
    {
      "cell_type": "markdown",
      "source": [
        "\n",
        "##**CNN Model with BatchNormalization**"
      ],
      "metadata": {
        "id": "S3Wb_uxfMrYW"
      }
    },
    {
      "cell_type": "code",
      "execution_count": null,
      "metadata": {
        "id": "lGX7_YvWiIis"
      },
      "outputs": [],
      "source": [
        "model = Sequential()\n",
        "model.add(Conv2D(filters=64,kernel_size=(5,5),input_shape=(X_train.shape[1], X_train.shape[2], X_train.shape[3]),activation='elu',padding='same',kernel_initializer='he_normal'))\n",
        "model.add(BatchNormalization())\n",
        "model.add(Conv2D(filters=64,kernel_size=(5,5),activation='elu',padding='same',kernel_initializer='he_normal'))\n",
        "model.add(BatchNormalization())\n",
        "model.add(MaxPooling2D(pool_size=(2,2)))\n",
        "model.add(Dropout(0.4))\n",
        "model.add(Conv2D(filters=128,kernel_size=(3,3),activation='elu',padding='same',kernel_initializer='he_normal'))\n",
        "model.add(BatchNormalization())\n",
        "model.add(Conv2D(filters=128,kernel_size=(3,3),activation='elu',padding='same',kernel_initializer='he_normal'))\n",
        "model.add(BatchNormalization())    \n",
        "model.add(MaxPooling2D(pool_size=(2,2)))\n",
        "model.add(Dropout(0.4))\n",
        "model.add(Conv2D(filters=256,kernel_size=(3,3),activation='elu',padding='same',kernel_initializer='he_normal'))\n",
        "model.add(BatchNormalization())\n",
        "model.add(Conv2D(filters=256,kernel_size=(3,3),activation='elu',padding='same',kernel_initializer='he_normal'))\n",
        "model.add(BatchNormalization())  \n",
        "model.add(MaxPooling2D(pool_size=(2,2)))\n",
        "model.add(Dropout(0.5))\n",
        "model.add(Flatten())      \n",
        "model.add(Dense(128,activation='elu',kernel_initializer='he_normal'))\n",
        "model.add(BatchNormalization())\n",
        "model.add(Dropout(0.6))\n",
        "model.add(Dense(y_train.shape[1],activation='softmax'))\n",
        "\n",
        "model.compile(loss=categorical_crossentropy,optimizer=Adam(0.001),metrics=['accuracy'])\n",
        "model.summary()\n",
        "   "
      ]
    },
    {
      "cell_type": "code",
      "source": [
        "\n",
        "plot_model(model, to_file = 'CNN Sequentioal Model with BatchNormalization.png', show_shapes = True, show_layer_names = True)"
      ],
      "metadata": {
        "id": "AX47cwES5PD4"
      },
      "execution_count": null,
      "outputs": []
    },
    {
      "cell_type": "code",
      "source": [
        "batch_size = 32 \n",
        "epochs = 100\n"
      ],
      "metadata": {
        "id": "Ptpmi9v5ZfNa"
      },
      "execution_count": 69,
      "outputs": []
    },
    {
      "cell_type": "code",
      "execution_count": 70,
      "metadata": {
        "colab": {
          "base_uri": "https://localhost:8080/",
          "height": 0
        },
        "id": "3LcoPr-WiRR1",
        "outputId": "73f0638a-fa49-4f22-a5ba-05c66ea980e7"
      },
      "outputs": [
        {
          "output_type": "stream",
          "name": "stdout",
          "text": [
            "Epoch 1/100\n",
            "847/847 [==============================] - 27s 30ms/step - loss: 2.2196 - accuracy: 0.1876 - val_loss: 1.7903 - val_accuracy: 0.2934\n",
            "Epoch 2/100\n",
            "847/847 [==============================] - 23s 27ms/step - loss: 1.8391 - accuracy: 0.2573 - val_loss: 1.6472 - val_accuracy: 0.3695\n",
            "Epoch 3/100\n",
            "847/847 [==============================] - 25s 29ms/step - loss: 1.6900 - accuracy: 0.3449 - val_loss: 1.4479 - val_accuracy: 0.4467\n",
            "Epoch 4/100\n",
            "847/847 [==============================] - 24s 28ms/step - loss: 1.5409 - accuracy: 0.4104 - val_loss: 1.3478 - val_accuracy: 0.4988\n",
            "Epoch 5/100\n",
            "847/847 [==============================] - 25s 29ms/step - loss: 1.4482 - accuracy: 0.4515 - val_loss: 1.2692 - val_accuracy: 0.5236\n",
            "Epoch 6/100\n",
            "847/847 [==============================] - 23s 27ms/step - loss: 1.3737 - accuracy: 0.4834 - val_loss: 1.2897 - val_accuracy: 0.5277\n",
            "Epoch 7/100\n",
            "847/847 [==============================] - 25s 29ms/step - loss: 1.3180 - accuracy: 0.5093 - val_loss: 1.1220 - val_accuracy: 0.5760\n",
            "Epoch 8/100\n",
            "847/847 [==============================] - 23s 27ms/step - loss: 1.2755 - accuracy: 0.5270 - val_loss: 1.0711 - val_accuracy: 0.5976\n",
            "Epoch 9/100\n",
            "847/847 [==============================] - 23s 27ms/step - loss: 1.2351 - accuracy: 0.5414 - val_loss: 1.1130 - val_accuracy: 0.5889\n",
            "Epoch 10/100\n",
            "847/847 [==============================] - 25s 29ms/step - loss: 1.2067 - accuracy: 0.5529 - val_loss: 1.0106 - val_accuracy: 0.6246\n",
            "Epoch 11/100\n",
            "847/847 [==============================] - 27s 31ms/step - loss: 1.1748 - accuracy: 0.5652 - val_loss: 0.9899 - val_accuracy: 0.6235\n",
            "Epoch 12/100\n",
            "847/847 [==============================] - 25s 29ms/step - loss: 1.1416 - accuracy: 0.5778 - val_loss: 0.9695 - val_accuracy: 0.6337\n",
            "Epoch 13/100\n",
            "847/847 [==============================] - 25s 29ms/step - loss: 1.1260 - accuracy: 0.5828 - val_loss: 1.0413 - val_accuracy: 0.6096\n",
            "Epoch 14/100\n",
            "847/847 [==============================] - 23s 27ms/step - loss: 1.1158 - accuracy: 0.5857 - val_loss: 1.0532 - val_accuracy: 0.6144\n",
            "Epoch 15/100\n",
            "847/847 [==============================] - 25s 29ms/step - loss: 1.0884 - accuracy: 0.5971 - val_loss: 0.9312 - val_accuracy: 0.6496\n",
            "Epoch 16/100\n",
            "847/847 [==============================] - 25s 29ms/step - loss: 1.0733 - accuracy: 0.6005 - val_loss: 0.9816 - val_accuracy: 0.6314\n",
            "Epoch 17/100\n",
            "847/847 [==============================] - 25s 29ms/step - loss: 1.0623 - accuracy: 0.6071 - val_loss: 0.9177 - val_accuracy: 0.6550\n",
            "Epoch 18/100\n",
            "847/847 [==============================] - 24s 29ms/step - loss: 1.0536 - accuracy: 0.6085 - val_loss: 0.9123 - val_accuracy: 0.6572\n",
            "Epoch 19/100\n",
            "847/847 [==============================] - 25s 29ms/step - loss: 1.0431 - accuracy: 0.6149 - val_loss: 0.8971 - val_accuracy: 0.6613\n",
            "Epoch 20/100\n",
            "847/847 [==============================] - 25s 29ms/step - loss: 1.0297 - accuracy: 0.6194 - val_loss: 0.9120 - val_accuracy: 0.6582\n",
            "Epoch 21/100\n",
            "847/847 [==============================] - 23s 27ms/step - loss: 1.0153 - accuracy: 0.6231 - val_loss: 0.8829 - val_accuracy: 0.6705\n",
            "Epoch 22/100\n",
            "847/847 [==============================] - 25s 29ms/step - loss: 1.0130 - accuracy: 0.6259 - val_loss: 0.9187 - val_accuracy: 0.6557\n",
            "Epoch 23/100\n",
            "847/847 [==============================] - 23s 27ms/step - loss: 1.0034 - accuracy: 0.6289 - val_loss: 0.8997 - val_accuracy: 0.6613\n",
            "Epoch 24/100\n",
            "847/847 [==============================] - 25s 29ms/step - loss: 0.9927 - accuracy: 0.6306 - val_loss: 0.8678 - val_accuracy: 0.6746\n",
            "Epoch 25/100\n",
            "847/847 [==============================] - 26s 31ms/step - loss: 0.9846 - accuracy: 0.6354 - val_loss: 0.9301 - val_accuracy: 0.6571\n",
            "Epoch 26/100\n",
            "847/847 [==============================] - 23s 27ms/step - loss: 0.9775 - accuracy: 0.6367 - val_loss: 0.8494 - val_accuracy: 0.6805\n",
            "Epoch 27/100\n",
            "847/847 [==============================] - 25s 29ms/step - loss: 0.9728 - accuracy: 0.6399 - val_loss: 0.8506 - val_accuracy: 0.6831\n",
            "Epoch 28/100\n",
            "847/847 [==============================] - 25s 30ms/step - loss: 0.9594 - accuracy: 0.6490 - val_loss: 0.8841 - val_accuracy: 0.6663\n",
            "Epoch 29/100\n",
            "847/847 [==============================] - 23s 27ms/step - loss: 0.9552 - accuracy: 0.6467 - val_loss: 0.8825 - val_accuracy: 0.6733\n",
            "Epoch 30/100\n",
            "847/847 [==============================] - 23s 27ms/step - loss: 0.9466 - accuracy: 0.6489 - val_loss: 0.8228 - val_accuracy: 0.6898\n",
            "Epoch 31/100\n",
            "847/847 [==============================] - 23s 27ms/step - loss: 0.9416 - accuracy: 0.6512 - val_loss: 0.8698 - val_accuracy: 0.6756\n",
            "Epoch 32/100\n",
            "847/847 [==============================] - 25s 29ms/step - loss: 0.9464 - accuracy: 0.6481 - val_loss: 0.8319 - val_accuracy: 0.6877\n",
            "Epoch 33/100\n",
            "847/847 [==============================] - 27s 32ms/step - loss: 0.9325 - accuracy: 0.6553 - val_loss: 0.8732 - val_accuracy: 0.6762\n",
            "Epoch 34/100\n",
            "847/847 [==============================] - 23s 27ms/step - loss: 0.9292 - accuracy: 0.6579 - val_loss: 0.8483 - val_accuracy: 0.6859\n",
            "Epoch 35/100\n",
            "847/847 [==============================] - 23s 27ms/step - loss: 0.9231 - accuracy: 0.6584 - val_loss: 0.8281 - val_accuracy: 0.6906\n",
            "Epoch 36/100\n",
            "847/847 [==============================] - 29s 34ms/step - loss: 0.9174 - accuracy: 0.6600 - val_loss: 0.8603 - val_accuracy: 0.6772\n",
            "Epoch 37/100\n",
            "847/847 [==============================] - 30s 35ms/step - loss: 0.9137 - accuracy: 0.6642 - val_loss: 0.8562 - val_accuracy: 0.6806\n",
            "Epoch 38/100\n",
            "847/847 [==============================] - 28s 33ms/step - loss: 0.9184 - accuracy: 0.6618 - val_loss: 0.8624 - val_accuracy: 0.6858\n",
            "Epoch 39/100\n",
            "847/847 [==============================] - 31s 36ms/step - loss: 0.8993 - accuracy: 0.6683 - val_loss: 0.8206 - val_accuracy: 0.6945\n",
            "Epoch 40/100\n",
            "847/847 [==============================] - 24s 28ms/step - loss: 0.9065 - accuracy: 0.6680 - val_loss: 0.8235 - val_accuracy: 0.6920\n",
            "Epoch 41/100\n",
            "847/847 [==============================] - 33s 39ms/step - loss: 0.8914 - accuracy: 0.6683 - val_loss: 0.8555 - val_accuracy: 0.6871\n",
            "Epoch 42/100\n",
            "847/847 [==============================] - 25s 30ms/step - loss: 0.8913 - accuracy: 0.6727 - val_loss: 0.8171 - val_accuracy: 0.7004\n",
            "Epoch 43/100\n",
            "847/847 [==============================] - 25s 29ms/step - loss: 0.8890 - accuracy: 0.6747 - val_loss: 0.8193 - val_accuracy: 0.6951\n",
            "Epoch 44/100\n",
            "847/847 [==============================] - 30s 35ms/step - loss: 0.8859 - accuracy: 0.6730 - val_loss: 0.8326 - val_accuracy: 0.6897\n",
            "Epoch 45/100\n",
            "847/847 [==============================] - 30s 36ms/step - loss: 0.8817 - accuracy: 0.6757 - val_loss: 0.8107 - val_accuracy: 0.6932\n",
            "Epoch 46/100\n",
            "847/847 [==============================] - 26s 30ms/step - loss: 0.8758 - accuracy: 0.6762 - val_loss: 0.8438 - val_accuracy: 0.6859\n",
            "Epoch 47/100\n",
            "847/847 [==============================] - 25s 29ms/step - loss: 0.8793 - accuracy: 0.6758 - val_loss: 0.8157 - val_accuracy: 0.6938\n",
            "Epoch 48/100\n",
            "847/847 [==============================] - 25s 30ms/step - loss: 0.8684 - accuracy: 0.6791 - val_loss: 0.8302 - val_accuracy: 0.6963\n",
            "Epoch 49/100\n",
            "847/847 [==============================] - 26s 31ms/step - loss: 0.8624 - accuracy: 0.6812 - val_loss: 0.8567 - val_accuracy: 0.6871\n",
            "Epoch 50/100\n",
            "847/847 [==============================] - 26s 30ms/step - loss: 0.8670 - accuracy: 0.6810 - val_loss: 0.8172 - val_accuracy: 0.6988\n",
            "Epoch 51/100\n",
            "847/847 [==============================] - 24s 28ms/step - loss: 0.8613 - accuracy: 0.6837 - val_loss: 0.8252 - val_accuracy: 0.6923\n",
            "Epoch 52/100\n",
            "847/847 [==============================] - 25s 30ms/step - loss: 0.8546 - accuracy: 0.6858 - val_loss: 0.7962 - val_accuracy: 0.7050\n",
            "Epoch 53/100\n",
            "847/847 [==============================] - 25s 30ms/step - loss: 0.8567 - accuracy: 0.6844 - val_loss: 0.8028 - val_accuracy: 0.7022\n",
            "Epoch 54/100\n",
            "847/847 [==============================] - 23s 27ms/step - loss: 0.8494 - accuracy: 0.6876 - val_loss: 0.8015 - val_accuracy: 0.7028\n",
            "Epoch 55/100\n",
            "847/847 [==============================] - 26s 30ms/step - loss: 0.8467 - accuracy: 0.6897 - val_loss: 0.8751 - val_accuracy: 0.6780\n",
            "Epoch 56/100\n",
            "847/847 [==============================] - 25s 30ms/step - loss: 0.8461 - accuracy: 0.6889 - val_loss: 0.8138 - val_accuracy: 0.7022\n",
            "Epoch 57/100\n",
            "847/847 [==============================] - 23s 27ms/step - loss: 0.8410 - accuracy: 0.6891 - val_loss: 0.8283 - val_accuracy: 0.6983\n",
            "Epoch 58/100\n",
            "847/847 [==============================] - 23s 27ms/step - loss: 0.8416 - accuracy: 0.6924 - val_loss: 0.8027 - val_accuracy: 0.7082\n",
            "Epoch 59/100\n",
            "847/847 [==============================] - 24s 29ms/step - loss: 0.8377 - accuracy: 0.6897 - val_loss: 0.8508 - val_accuracy: 0.6968\n",
            "Epoch 60/100\n",
            "847/847 [==============================] - 23s 27ms/step - loss: 0.8358 - accuracy: 0.6926 - val_loss: 0.7969 - val_accuracy: 0.7054\n",
            "Epoch 61/100\n",
            "847/847 [==============================] - 25s 29ms/step - loss: 0.8314 - accuracy: 0.6982 - val_loss: 0.7947 - val_accuracy: 0.7110\n",
            "Epoch 62/100\n",
            "847/847 [==============================] - 23s 27ms/step - loss: 0.8232 - accuracy: 0.6942 - val_loss: 0.8182 - val_accuracy: 0.7043\n",
            "Epoch 63/100\n",
            "847/847 [==============================] - 26s 30ms/step - loss: 0.8334 - accuracy: 0.6918 - val_loss: 0.7980 - val_accuracy: 0.7068\n",
            "Epoch 64/100\n",
            "847/847 [==============================] - 26s 30ms/step - loss: 0.8262 - accuracy: 0.6939 - val_loss: 0.7909 - val_accuracy: 0.7117\n",
            "Epoch 65/100\n",
            "847/847 [==============================] - 26s 30ms/step - loss: 0.8132 - accuracy: 0.7009 - val_loss: 0.8332 - val_accuracy: 0.6960\n",
            "Epoch 66/100\n",
            "847/847 [==============================] - 26s 30ms/step - loss: 0.8187 - accuracy: 0.7004 - val_loss: 0.7945 - val_accuracy: 0.7097\n",
            "Epoch 67/100\n",
            "847/847 [==============================] - 23s 27ms/step - loss: 0.8164 - accuracy: 0.6968 - val_loss: 0.7904 - val_accuracy: 0.7146\n",
            "Epoch 68/100\n",
            "847/847 [==============================] - 25s 30ms/step - loss: 0.8187 - accuracy: 0.6969 - val_loss: 0.8000 - val_accuracy: 0.7062\n",
            "Epoch 69/100\n",
            "847/847 [==============================] - 23s 27ms/step - loss: 0.8101 - accuracy: 0.7019 - val_loss: 0.8134 - val_accuracy: 0.7069\n",
            "Epoch 70/100\n",
            "847/847 [==============================] - 25s 30ms/step - loss: 0.8184 - accuracy: 0.6987 - val_loss: 0.7984 - val_accuracy: 0.7105\n",
            "Epoch 71/100\n",
            "847/847 [==============================] - 23s 27ms/step - loss: 0.8112 - accuracy: 0.7037 - val_loss: 0.8113 - val_accuracy: 0.7089\n",
            "Epoch 72/100\n",
            "847/847 [==============================] - 23s 27ms/step - loss: 0.8026 - accuracy: 0.7048 - val_loss: 0.8274 - val_accuracy: 0.7045\n",
            "Epoch 73/100\n",
            "847/847 [==============================] - 27s 32ms/step - loss: 0.8039 - accuracy: 0.7040 - val_loss: 0.7907 - val_accuracy: 0.7135\n",
            "Epoch 74/100\n",
            "847/847 [==============================] - 25s 30ms/step - loss: 0.7988 - accuracy: 0.7065 - val_loss: 0.7976 - val_accuracy: 0.7139\n",
            "Epoch 75/100\n",
            "847/847 [==============================] - 25s 30ms/step - loss: 0.7991 - accuracy: 0.7052 - val_loss: 0.8027 - val_accuracy: 0.7115\n",
            "Epoch 76/100\n",
            "847/847 [==============================] - 25s 30ms/step - loss: 0.7983 - accuracy: 0.7095 - val_loss: 0.7986 - val_accuracy: 0.7089\n",
            "Epoch 77/100\n",
            "847/847 [==============================] - 25s 30ms/step - loss: 0.7971 - accuracy: 0.7082 - val_loss: 0.8214 - val_accuracy: 0.7098\n",
            "Epoch 78/100\n",
            "847/847 [==============================] - 25s 30ms/step - loss: 0.7968 - accuracy: 0.7064 - val_loss: 0.8248 - val_accuracy: 0.7094\n",
            "Epoch 79/100\n",
            "847/847 [==============================] - 26s 30ms/step - loss: 0.7885 - accuracy: 0.7121 - val_loss: 0.8280 - val_accuracy: 0.7089\n",
            "Epoch 80/100\n",
            "847/847 [==============================] - 27s 32ms/step - loss: 0.7824 - accuracy: 0.7135 - val_loss: 0.8388 - val_accuracy: 0.7054\n",
            "Epoch 81/100\n",
            "847/847 [==============================] - 23s 27ms/step - loss: 0.7824 - accuracy: 0.7123 - val_loss: 0.7945 - val_accuracy: 0.7173\n",
            "Epoch 82/100\n",
            "847/847 [==============================] - 25s 30ms/step - loss: 0.7894 - accuracy: 0.7073 - val_loss: 0.8499 - val_accuracy: 0.6984\n",
            "Epoch 83/100\n",
            "847/847 [==============================] - 23s 27ms/step - loss: 0.7810 - accuracy: 0.7114 - val_loss: 0.7836 - val_accuracy: 0.7156\n",
            "Epoch 84/100\n",
            "847/847 [==============================] - 25s 30ms/step - loss: 0.7798 - accuracy: 0.7132 - val_loss: 0.7891 - val_accuracy: 0.7098\n",
            "Epoch 85/100\n",
            "847/847 [==============================] - 24s 28ms/step - loss: 0.7862 - accuracy: 0.7091 - val_loss: 0.7949 - val_accuracy: 0.7074\n",
            "Epoch 86/100\n",
            "847/847 [==============================] - 25s 29ms/step - loss: 0.7769 - accuracy: 0.7119 - val_loss: 0.8346 - val_accuracy: 0.7062\n",
            "Epoch 87/100\n",
            "847/847 [==============================] - 27s 32ms/step - loss: 0.7736 - accuracy: 0.7154 - val_loss: 0.8107 - val_accuracy: 0.7107\n",
            "Epoch 88/100\n",
            "847/847 [==============================] - 25s 30ms/step - loss: 0.7668 - accuracy: 0.7193 - val_loss: 0.8290 - val_accuracy: 0.7086\n",
            "Epoch 89/100\n",
            "847/847 [==============================] - 23s 27ms/step - loss: 0.7784 - accuracy: 0.7128 - val_loss: 0.8287 - val_accuracy: 0.7018\n",
            "Epoch 90/100\n",
            "847/847 [==============================] - 26s 30ms/step - loss: 0.7720 - accuracy: 0.7160 - val_loss: 0.8137 - val_accuracy: 0.7159\n",
            "Epoch 91/100\n",
            "847/847 [==============================] - 26s 30ms/step - loss: 0.7732 - accuracy: 0.7149 - val_loss: 0.8005 - val_accuracy: 0.7155\n",
            "Epoch 92/100\n",
            "847/847 [==============================] - 23s 27ms/step - loss: 0.7710 - accuracy: 0.7214 - val_loss: 0.8132 - val_accuracy: 0.7114\n",
            "Epoch 93/100\n",
            "847/847 [==============================] - 23s 27ms/step - loss: 0.7615 - accuracy: 0.7191 - val_loss: 0.8086 - val_accuracy: 0.7069\n",
            "Epoch 94/100\n",
            "847/847 [==============================] - 25s 29ms/step - loss: 0.7656 - accuracy: 0.7207 - val_loss: 0.8023 - val_accuracy: 0.7179\n",
            "Epoch 95/100\n",
            "847/847 [==============================] - 25s 30ms/step - loss: 0.7580 - accuracy: 0.7209 - val_loss: 0.7945 - val_accuracy: 0.7168\n",
            "Epoch 96/100\n",
            "847/847 [==============================] - 23s 27ms/step - loss: 0.7548 - accuracy: 0.7258 - val_loss: 0.7935 - val_accuracy: 0.7172\n",
            "Epoch 97/100\n",
            "847/847 [==============================] - 23s 27ms/step - loss: 0.7545 - accuracy: 0.7211 - val_loss: 0.7932 - val_accuracy: 0.7172\n",
            "Epoch 98/100\n",
            "847/847 [==============================] - 23s 27ms/step - loss: 0.7505 - accuracy: 0.7252 - val_loss: 0.7852 - val_accuracy: 0.7150\n",
            "Epoch 99/100\n",
            "847/847 [==============================] - 24s 28ms/step - loss: 0.7534 - accuracy: 0.7225 - val_loss: 0.8099 - val_accuracy: 0.7141\n",
            "Epoch 100/100\n",
            "847/847 [==============================] - 23s 27ms/step - loss: 0.7470 - accuracy: 0.7252 - val_loss: 0.8050 - val_accuracy: 0.7151\n"
          ]
        }
      ],
      "source": [
        "                         \n",
        "history = model.fit_generator(\n",
        "    train_datagen.flow(X_train, y_train, batch_size=batch_size),\n",
        "    validation_data=(X_valid, y_valid),\n",
        "    steps_per_epoch=len(X_train) / batch_size,\n",
        "    epochs=epochs,\n",
        "    #callbacks=callbacks,\n",
        "    use_multiprocessing=True\n",
        ")"
      ]
    },
    {
      "cell_type": "markdown",
      "source": [
        "##**Ploting the Accuracy**"
      ],
      "metadata": {
        "id": "gBPlywrRZloa"
      }
    },
    {
      "cell_type": "code",
      "source": [
        "fig , ax = plt.subplots(1,2)\n",
        "fig.set_size_inches(20, 8)\n",
        "\n",
        "train_acc = history.history['accuracy']\n",
        "train_loss = history.history['loss']\n",
        "val_acc = history.history['val_accuracy']\n",
        "val_loss = history.history['val_loss']\n",
        "\n",
        "epochs = range(1, len(train_acc) + 1)\n",
        "\n",
        "ax[0].plot(epochs , train_acc , 'g-o' , label = 'Training Accuracy')\n",
        "ax[0].plot(epochs , val_acc , 'y-o' , label = 'Validation Accuracy')\n",
        "ax[0].set_title('Model Training & Validation Accuracy')\n",
        "ax[0].legend(loc = 'lower right')\n",
        "ax[0].set_xlabel(\"Epochs\")\n",
        "ax[0].set_ylabel(\"Accuracy\")\n",
        "\n",
        "ax[1].plot(epochs , train_loss , 'g-o' , label = 'Training Loss')\n",
        "ax[1].plot(epochs , val_loss , 'y-o' , label = 'Validation Loss')\n",
        "ax[1].set_title('Model Training & Validation & Loss')\n",
        "ax[1].legend()\n",
        "ax[1].set_xlabel(\"Epochs\")\n",
        "ax[1].set_ylabel(\"Loss\")\n",
        "\n",
        "plt.show()"
      ],
      "metadata": {
        "colab": {
          "base_uri": "https://localhost:8080/",
          "height": 513
        },
        "id": "kBTj2VGYcNAv",
        "outputId": "efa9cef3-6b2b-456c-fb96-db0814c6fa26"
      },
      "execution_count": 59,
      "outputs": [
        {
          "output_type": "display_data",
          "data": {
            "text/plain": [
              "<Figure size 1440x576 with 2 Axes>"
            ],
            "image/png": "[encoded data removed]"
          },
          "metadata": {
            "needs_background": "light"
          }
        }
      ]
    },
    {
      "cell_type": "code",
      "source": [
        "print('Train accuracy & loss:', model.evaluate(X_train,y_train))\n",
        "print('\\n')\n",
        "print('Test accuracy & loss:', model.evaluate(X_valid,y_valid))"
      ],
      "metadata": {
        "colab": {
          "base_uri": "https://localhost:8080/",
          "height": 0
        },
        "id": "4XEpsLxDaoho",
        "outputId": "05cd892e-6230-4659-c1b3-1307d3c54f99"
      },
      "execution_count": 60,
      "outputs": [
        {
          "output_type": "stream",
          "name": "stdout",
          "text": [
            "848/848 [==============================] - 7s 9ms/step - loss: 0.0882 - accuracy: 0.9817\n",
            "Train accuracy & loss: [0.08822132647037506, 0.981675386428833]\n",
            "\n",
            "\n",
            "364/364 [==============================] - 3s 9ms/step - loss: 0.9975 - accuracy: 0.6943\n",
            "Test accuracy & loss: [0.9974737763404846, 0.6942795515060425]\n"
          ]
        }
      ]
    },
    {
      "cell_type": "code",
      "source": [
        "fig , ax = plt.subplots(1,2)\n",
        "fig.set_size_inches(20, 8)\n",
        "\n",
        "train_acc = history.history['accuracy']\n",
        "train_loss = history.history['loss']\n",
        "val_acc = history.history['val_accuracy']\n",
        "val_loss = history.history['val_loss']\n",
        "\n",
        "epochs = range(1, len(train_acc) + 1)\n",
        "\n",
        "ax[0].plot(epochs , train_acc , 'g-o' , label = 'Training Accuracy')\n",
        "ax[0].plot(epochs , val_acc , 'y-o' , label = 'Validation Accuracy')\n",
        "ax[0].set_title('Model Training & Validation Accuracy')\n",
        "ax[0].legend(loc = 'lower right')\n",
        "ax[0].set_xlabel(\"Epochs\")\n",
        "ax[0].set_ylabel(\"Accuracy\")\n",
        "\n",
        "ax[1].plot(epochs , train_loss , 'g-o' , label = 'Training Loss')\n",
        "ax[1].plot(epochs , val_loss , 'y-o' , label = 'Validation Loss')\n",
        "ax[1].set_title('Model Training & Validation & Loss')\n",
        "ax[1].legend()\n",
        "ax[1].set_xlabel(\"Epochs\")\n",
        "ax[1].set_ylabel(\"Loss\")\n",
        "\n",
        "plt.show()"
      ],
      "metadata": {
        "colab": {
          "base_uri": "https://localhost:8080/",
          "height": 513
        },
        "id": "l9DXzrkjweEs",
        "outputId": "7d698639-15bf-4098-9401-ff1db0e6d8f3"
      },
      "execution_count": 71,
      "outputs": [
        {
          "output_type": "display_data",
          "data": {
            "text/plain": [
              "<Figure size 1440x576 with 2 Axes>"
            ],
            "image/png": "[encoded data removed]"
          },
          "metadata": {
            "needs_background": "light"
          }
        }
      ]
    },
    {
      "cell_type": "code",
      "source": [
        "print('Train accuracy & loss:', model.evaluate(X_train,y_train))\n",
        "print('\\n')\n",
        "print('Test accuracy & loss:', model.evaluate(X_valid,y_valid))"
      ],
      "metadata": {
        "colab": {
          "base_uri": "https://localhost:8080/",
          "height": 0
        },
        "id": "Scyv6FJ6wklC",
        "outputId": "e78c9cd5-53a4-4b70-8dd5-af2354cca584"
      },
      "execution_count": 73,
      "outputs": [
        {
          "output_type": "stream",
          "name": "stdout",
          "text": [
            "848/848 [==============================] - 7s 9ms/step - loss: 0.5278 - accuracy: 0.8069\n",
            "Train accuracy & loss: [0.5278496146202087, 0.8068726658821106]\n",
            "\n",
            "\n",
            "364/364 [==============================] - 3s 9ms/step - loss: 0.8050 - accuracy: 0.7151\n",
            "Test accuracy & loss: [0.804966926574707, 0.7150967717170715]\n"
          ]
        }
      ]
    },
    {
      "cell_type": "code",
      "source": [
        "model.save(\"CNN_FER_model.h5\")"
      ],
      "metadata": {
        "id": "THiMyR-YdHGB"
      },
      "execution_count": null,
      "outputs": []
    },
    {
      "cell_type": "code",
      "source": [
        "pred_labels = model.predict(X_valid)"
      ],
      "metadata": {
        "id": "D120_yU1e1Xz"
      },
      "execution_count": null,
      "outputs": []
    },
    {
      "cell_type": "code",
      "source": [
        "def Plot_Prediction(test_image_array, test_image_label, pred_test_labels, image_number):\n",
        "        \n",
        "    fig, axs = plt.subplots(1, 2, figsize=(12, 6), sharey=False)\n",
        "    \n",
        "    bar_label = emotions.values()\n",
        "    \n",
        "    axs[0].imshow(test_image_array[image_number], 'gray')\n",
        "    axs[0].set_title(emotions[test_image_label[image_number]])\n",
        "    \n",
        "    axs[1].bar(bar_label, pred_test_labels[image_number], color='green', alpha=0.7)\n",
        "    axs[1].grid()\n",
        "    print('Original Label:',(emotions[test_image_label[image_number]]))\n",
        "    print('Predicted Label:',pred_test_labels[image_number])\n",
        "    \n",
        "    plt.show()"
      ],
      "metadata": {
        "id": "LozkJbiGe89i"
      },
      "execution_count": null,
      "outputs": []
    },
    {
      "cell_type": "code",
      "source": [
        "Plot_Prediction(X_valid, y_valid, pred_labels, 188)\n"
      ],
      "metadata": {
        "id": "KyF7hqMGfB6r"
      },
      "execution_count": null,
      "outputs": []
    }
  ],
  "metadata": {
    "accelerator": "GPU",
    "colab": {
      "provenance": [],
      "mount_file_id": "1or3GWp721i_lJjxFl4zXKTsM8ZP8mvNX",
      "authorship_tag": "ABX9TyM8+Ho9bhTlyuwn091UcPaN"
    },
    "gpuClass": "standard",
    "kernelspec": {
      "display_name": "Python 3",
      "name": "python3"
    },
    "language_info": {
      "name": "python"
    }
  },
  "nbformat": 4,
  "nbformat_minor": 0
}